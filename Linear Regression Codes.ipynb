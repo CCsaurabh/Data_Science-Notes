1. # Defining error measure
# Define error measure for official scoring : RMSE
scorer = make_scorer(mean_squared_error, greater_is_better = False)

def rmse_cv_train(model):
    rmse= np.sqrt(-cross_val_score(model, X_train, y_train, scoring = scorer, cv = 10))
    return(rmse)

def rmse_cv_test(model):
    rmse= np.sqrt(-cross_val_score(model, X_test, y_test, scoring = scorer, cv = 10))
    return(rmse)
	


2. #Linear Regression without regularization

# Linear Regression
lr = LinearRegression()
lr.fit(X_train, y_train)
