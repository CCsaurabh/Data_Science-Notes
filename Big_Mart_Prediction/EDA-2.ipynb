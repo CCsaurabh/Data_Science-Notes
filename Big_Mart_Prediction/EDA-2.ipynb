{
 "cells": [
  {
   "cell_type": "code",
   "execution_count": 1,
   "metadata": {},
   "outputs": [],
   "source": [
    "import pandas as pd\n",
    "import numpy as np\n",
    "import matplotlib.pyplot as plt"
   ]
  },
  {
   "cell_type": "code",
   "execution_count": 2,
   "metadata": {},
   "outputs": [],
   "source": [
    "train=pd.read_csv(r\"C:\\Users\\SaurabhM\\Jupyter Project Files\\My Works\\Big Mart Predicition\\train.csv\")\n",
    "\n",
    "test=pd.read_csv(r\"C:\\Users\\SaurabhM\\Jupyter Project Files\\My Works\\Big Mart Predicition\\test.csv\")"
   ]
  },
  {
   "cell_type": "code",
   "execution_count": 3,
   "metadata": {},
   "outputs": [
    {
     "data": {
      "text/html": [
       "<div>\n",
       "<style scoped>\n",
       "    .dataframe tbody tr th:only-of-type {\n",
       "        vertical-align: middle;\n",
       "    }\n",
       "\n",
       "    .dataframe tbody tr th {\n",
       "        vertical-align: top;\n",
       "    }\n",
       "\n",
       "    .dataframe thead th {\n",
       "        text-align: right;\n",
       "    }\n",
       "</style>\n",
       "<table border=\"1\" class=\"dataframe\">\n",
       "  <thead>\n",
       "    <tr style=\"text-align: right;\">\n",
       "      <th></th>\n",
       "      <th>Item_Identifier</th>\n",
       "      <th>Item_Weight</th>\n",
       "      <th>Item_Fat_Content</th>\n",
       "      <th>Item_Visibility</th>\n",
       "      <th>Item_Type</th>\n",
       "      <th>Item_MRP</th>\n",
       "      <th>Outlet_Identifier</th>\n",
       "      <th>Outlet_Establishment_Year</th>\n",
       "      <th>Outlet_Size</th>\n",
       "      <th>Outlet_Location_Type</th>\n",
       "      <th>Outlet_Type</th>\n",
       "      <th>Item_Outlet_Sales</th>\n",
       "    </tr>\n",
       "  </thead>\n",
       "  <tbody>\n",
       "    <tr>\n",
       "      <th>0</th>\n",
       "      <td>FDA15</td>\n",
       "      <td>9.30</td>\n",
       "      <td>Low Fat</td>\n",
       "      <td>0.016047</td>\n",
       "      <td>Dairy</td>\n",
       "      <td>249.8092</td>\n",
       "      <td>OUT049</td>\n",
       "      <td>1999</td>\n",
       "      <td>Medium</td>\n",
       "      <td>Tier 1</td>\n",
       "      <td>Supermarket Type1</td>\n",
       "      <td>3735.1380</td>\n",
       "    </tr>\n",
       "    <tr>\n",
       "      <th>1</th>\n",
       "      <td>DRC01</td>\n",
       "      <td>5.92</td>\n",
       "      <td>Regular</td>\n",
       "      <td>0.019278</td>\n",
       "      <td>Soft Drinks</td>\n",
       "      <td>48.2692</td>\n",
       "      <td>OUT018</td>\n",
       "      <td>2009</td>\n",
       "      <td>Medium</td>\n",
       "      <td>Tier 3</td>\n",
       "      <td>Supermarket Type2</td>\n",
       "      <td>443.4228</td>\n",
       "    </tr>\n",
       "    <tr>\n",
       "      <th>2</th>\n",
       "      <td>FDN15</td>\n",
       "      <td>17.50</td>\n",
       "      <td>Low Fat</td>\n",
       "      <td>0.016760</td>\n",
       "      <td>Meat</td>\n",
       "      <td>141.6180</td>\n",
       "      <td>OUT049</td>\n",
       "      <td>1999</td>\n",
       "      <td>Medium</td>\n",
       "      <td>Tier 1</td>\n",
       "      <td>Supermarket Type1</td>\n",
       "      <td>2097.2700</td>\n",
       "    </tr>\n",
       "    <tr>\n",
       "      <th>3</th>\n",
       "      <td>FDX07</td>\n",
       "      <td>19.20</td>\n",
       "      <td>Regular</td>\n",
       "      <td>0.000000</td>\n",
       "      <td>Fruits and Vegetables</td>\n",
       "      <td>182.0950</td>\n",
       "      <td>OUT010</td>\n",
       "      <td>1998</td>\n",
       "      <td>NaN</td>\n",
       "      <td>Tier 3</td>\n",
       "      <td>Grocery Store</td>\n",
       "      <td>732.3800</td>\n",
       "    </tr>\n",
       "    <tr>\n",
       "      <th>4</th>\n",
       "      <td>NCD19</td>\n",
       "      <td>8.93</td>\n",
       "      <td>Low Fat</td>\n",
       "      <td>0.000000</td>\n",
       "      <td>Household</td>\n",
       "      <td>53.8614</td>\n",
       "      <td>OUT013</td>\n",
       "      <td>1987</td>\n",
       "      <td>High</td>\n",
       "      <td>Tier 3</td>\n",
       "      <td>Supermarket Type1</td>\n",
       "      <td>994.7052</td>\n",
       "    </tr>\n",
       "  </tbody>\n",
       "</table>\n",
       "</div>"
      ],
      "text/plain": [
       "  Item_Identifier  Item_Weight Item_Fat_Content  Item_Visibility  \\\n",
       "0           FDA15         9.30          Low Fat         0.016047   \n",
       "1           DRC01         5.92          Regular         0.019278   \n",
       "2           FDN15        17.50          Low Fat         0.016760   \n",
       "3           FDX07        19.20          Regular         0.000000   \n",
       "4           NCD19         8.93          Low Fat         0.000000   \n",
       "\n",
       "               Item_Type  Item_MRP Outlet_Identifier  \\\n",
       "0                  Dairy  249.8092            OUT049   \n",
       "1            Soft Drinks   48.2692            OUT018   \n",
       "2                   Meat  141.6180            OUT049   \n",
       "3  Fruits and Vegetables  182.0950            OUT010   \n",
       "4              Household   53.8614            OUT013   \n",
       "\n",
       "   Outlet_Establishment_Year Outlet_Size Outlet_Location_Type  \\\n",
       "0                       1999      Medium               Tier 1   \n",
       "1                       2009      Medium               Tier 3   \n",
       "2                       1999      Medium               Tier 1   \n",
       "3                       1998         NaN               Tier 3   \n",
       "4                       1987        High               Tier 3   \n",
       "\n",
       "         Outlet_Type  Item_Outlet_Sales  \n",
       "0  Supermarket Type1          3735.1380  \n",
       "1  Supermarket Type2           443.4228  \n",
       "2  Supermarket Type1          2097.2700  \n",
       "3      Grocery Store           732.3800  \n",
       "4  Supermarket Type1           994.7052  "
      ]
     },
     "execution_count": 3,
     "metadata": {},
     "output_type": "execute_result"
    }
   ],
   "source": [
    "train.head()"
   ]
  },
  {
   "cell_type": "code",
   "execution_count": 4,
   "metadata": {},
   "outputs": [
    {
     "data": {
      "text/html": [
       "<div>\n",
       "<style scoped>\n",
       "    .dataframe tbody tr th:only-of-type {\n",
       "        vertical-align: middle;\n",
       "    }\n",
       "\n",
       "    .dataframe tbody tr th {\n",
       "        vertical-align: top;\n",
       "    }\n",
       "\n",
       "    .dataframe thead th {\n",
       "        text-align: right;\n",
       "    }\n",
       "</style>\n",
       "<table border=\"1\" class=\"dataframe\">\n",
       "  <thead>\n",
       "    <tr style=\"text-align: right;\">\n",
       "      <th></th>\n",
       "      <th>Item_Weight</th>\n",
       "      <th>Item_Visibility</th>\n",
       "      <th>Item_MRP</th>\n",
       "      <th>Outlet_Establishment_Year</th>\n",
       "      <th>Item_Outlet_Sales</th>\n",
       "    </tr>\n",
       "  </thead>\n",
       "  <tbody>\n",
       "    <tr>\n",
       "      <th>count</th>\n",
       "      <td>7060.000000</td>\n",
       "      <td>8523.000000</td>\n",
       "      <td>8523.000000</td>\n",
       "      <td>8523.000000</td>\n",
       "      <td>8523.000000</td>\n",
       "    </tr>\n",
       "    <tr>\n",
       "      <th>mean</th>\n",
       "      <td>12.857645</td>\n",
       "      <td>0.066132</td>\n",
       "      <td>140.992782</td>\n",
       "      <td>1997.831867</td>\n",
       "      <td>2181.288914</td>\n",
       "    </tr>\n",
       "    <tr>\n",
       "      <th>std</th>\n",
       "      <td>4.643456</td>\n",
       "      <td>0.051598</td>\n",
       "      <td>62.275067</td>\n",
       "      <td>8.371760</td>\n",
       "      <td>1706.499616</td>\n",
       "    </tr>\n",
       "    <tr>\n",
       "      <th>min</th>\n",
       "      <td>4.555000</td>\n",
       "      <td>0.000000</td>\n",
       "      <td>31.290000</td>\n",
       "      <td>1985.000000</td>\n",
       "      <td>33.290000</td>\n",
       "    </tr>\n",
       "    <tr>\n",
       "      <th>25%</th>\n",
       "      <td>8.773750</td>\n",
       "      <td>0.026989</td>\n",
       "      <td>93.826500</td>\n",
       "      <td>1987.000000</td>\n",
       "      <td>834.247400</td>\n",
       "    </tr>\n",
       "    <tr>\n",
       "      <th>50%</th>\n",
       "      <td>12.600000</td>\n",
       "      <td>0.053931</td>\n",
       "      <td>143.012800</td>\n",
       "      <td>1999.000000</td>\n",
       "      <td>1794.331000</td>\n",
       "    </tr>\n",
       "    <tr>\n",
       "      <th>75%</th>\n",
       "      <td>16.850000</td>\n",
       "      <td>0.094585</td>\n",
       "      <td>185.643700</td>\n",
       "      <td>2004.000000</td>\n",
       "      <td>3101.296400</td>\n",
       "    </tr>\n",
       "    <tr>\n",
       "      <th>max</th>\n",
       "      <td>21.350000</td>\n",
       "      <td>0.328391</td>\n",
       "      <td>266.888400</td>\n",
       "      <td>2009.000000</td>\n",
       "      <td>13086.964800</td>\n",
       "    </tr>\n",
       "  </tbody>\n",
       "</table>\n",
       "</div>"
      ],
      "text/plain": [
       "       Item_Weight  Item_Visibility     Item_MRP  Outlet_Establishment_Year  \\\n",
       "count  7060.000000      8523.000000  8523.000000                8523.000000   \n",
       "mean     12.857645         0.066132   140.992782                1997.831867   \n",
       "std       4.643456         0.051598    62.275067                   8.371760   \n",
       "min       4.555000         0.000000    31.290000                1985.000000   \n",
       "25%       8.773750         0.026989    93.826500                1987.000000   \n",
       "50%      12.600000         0.053931   143.012800                1999.000000   \n",
       "75%      16.850000         0.094585   185.643700                2004.000000   \n",
       "max      21.350000         0.328391   266.888400                2009.000000   \n",
       "\n",
       "       Item_Outlet_Sales  \n",
       "count        8523.000000  \n",
       "mean         2181.288914  \n",
       "std          1706.499616  \n",
       "min            33.290000  \n",
       "25%           834.247400  \n",
       "50%          1794.331000  \n",
       "75%          3101.296400  \n",
       "max         13086.964800  "
      ]
     },
     "execution_count": 4,
     "metadata": {},
     "output_type": "execute_result"
    }
   ],
   "source": [
    "train.describe()"
   ]
  },
  {
   "cell_type": "code",
   "execution_count": 5,
   "metadata": {},
   "outputs": [
    {
     "data": {
      "text/plain": [
       "1559"
      ]
     },
     "execution_count": 5,
     "metadata": {},
     "output_type": "execute_result"
    }
   ],
   "source": [
    "# List of unique products\n",
    "len(train['Item_Identifier'].unique())"
   ]
  },
  {
   "cell_type": "code",
   "execution_count": 6,
   "metadata": {},
   "outputs": [
    {
     "data": {
      "text/html": [
       "<div>\n",
       "<style scoped>\n",
       "    .dataframe tbody tr th:only-of-type {\n",
       "        vertical-align: middle;\n",
       "    }\n",
       "\n",
       "    .dataframe tbody tr th {\n",
       "        vertical-align: top;\n",
       "    }\n",
       "\n",
       "    .dataframe thead th {\n",
       "        text-align: right;\n",
       "    }\n",
       "</style>\n",
       "<table border=\"1\" class=\"dataframe\">\n",
       "  <thead>\n",
       "    <tr style=\"text-align: right;\">\n",
       "      <th></th>\n",
       "      <th>Item_Weight</th>\n",
       "      <th>Item_Visibility</th>\n",
       "      <th>Item_MRP</th>\n",
       "      <th>Outlet_Establishment_Year</th>\n",
       "      <th>Item_Outlet_Sales</th>\n",
       "    </tr>\n",
       "  </thead>\n",
       "  <tbody>\n",
       "    <tr>\n",
       "      <th>count</th>\n",
       "      <td>7060.000000</td>\n",
       "      <td>8523.000000</td>\n",
       "      <td>8523.000000</td>\n",
       "      <td>8523.000000</td>\n",
       "      <td>8523.000000</td>\n",
       "    </tr>\n",
       "    <tr>\n",
       "      <th>mean</th>\n",
       "      <td>12.857645</td>\n",
       "      <td>0.066132</td>\n",
       "      <td>140.992782</td>\n",
       "      <td>1997.831867</td>\n",
       "      <td>2181.288914</td>\n",
       "    </tr>\n",
       "    <tr>\n",
       "      <th>std</th>\n",
       "      <td>4.643456</td>\n",
       "      <td>0.051598</td>\n",
       "      <td>62.275067</td>\n",
       "      <td>8.371760</td>\n",
       "      <td>1706.499616</td>\n",
       "    </tr>\n",
       "    <tr>\n",
       "      <th>min</th>\n",
       "      <td>4.555000</td>\n",
       "      <td>0.000000</td>\n",
       "      <td>31.290000</td>\n",
       "      <td>1985.000000</td>\n",
       "      <td>33.290000</td>\n",
       "    </tr>\n",
       "    <tr>\n",
       "      <th>25%</th>\n",
       "      <td>8.773750</td>\n",
       "      <td>0.026989</td>\n",
       "      <td>93.826500</td>\n",
       "      <td>1987.000000</td>\n",
       "      <td>834.247400</td>\n",
       "    </tr>\n",
       "    <tr>\n",
       "      <th>50%</th>\n",
       "      <td>12.600000</td>\n",
       "      <td>0.053931</td>\n",
       "      <td>143.012800</td>\n",
       "      <td>1999.000000</td>\n",
       "      <td>1794.331000</td>\n",
       "    </tr>\n",
       "    <tr>\n",
       "      <th>75%</th>\n",
       "      <td>16.850000</td>\n",
       "      <td>0.094585</td>\n",
       "      <td>185.643700</td>\n",
       "      <td>2004.000000</td>\n",
       "      <td>3101.296400</td>\n",
       "    </tr>\n",
       "    <tr>\n",
       "      <th>max</th>\n",
       "      <td>21.350000</td>\n",
       "      <td>0.328391</td>\n",
       "      <td>266.888400</td>\n",
       "      <td>2009.000000</td>\n",
       "      <td>13086.964800</td>\n",
       "    </tr>\n",
       "  </tbody>\n",
       "</table>\n",
       "</div>"
      ],
      "text/plain": [
       "       Item_Weight  Item_Visibility     Item_MRP  Outlet_Establishment_Year  \\\n",
       "count  7060.000000      8523.000000  8523.000000                8523.000000   \n",
       "mean     12.857645         0.066132   140.992782                1997.831867   \n",
       "std       4.643456         0.051598    62.275067                   8.371760   \n",
       "min       4.555000         0.000000    31.290000                1985.000000   \n",
       "25%       8.773750         0.026989    93.826500                1987.000000   \n",
       "50%      12.600000         0.053931   143.012800                1999.000000   \n",
       "75%      16.850000         0.094585   185.643700                2004.000000   \n",
       "max      21.350000         0.328391   266.888400                2009.000000   \n",
       "\n",
       "       Item_Outlet_Sales  \n",
       "count        8523.000000  \n",
       "mean         2181.288914  \n",
       "std          1706.499616  \n",
       "min            33.290000  \n",
       "25%           834.247400  \n",
       "50%          1794.331000  \n",
       "75%          3101.296400  \n",
       "max         13086.964800  "
      ]
     },
     "execution_count": 6,
     "metadata": {},
     "output_type": "execute_result"
    }
   ],
   "source": [
    "train.describe()"
   ]
  },
  {
   "cell_type": "code",
   "execution_count": 7,
   "metadata": {},
   "outputs": [
    {
     "data": {
      "text/plain": [
       "Item_Identifier                 0\n",
       "Item_Weight                  1463\n",
       "Item_Fat_Content                0\n",
       "Item_Visibility                 0\n",
       "Item_Type                       0\n",
       "Item_MRP                        0\n",
       "Outlet_Identifier               0\n",
       "Outlet_Establishment_Year       0\n",
       "Outlet_Size                  2410\n",
       "Outlet_Location_Type            0\n",
       "Outlet_Type                     0\n",
       "Item_Outlet_Sales               0\n",
       "dtype: int64"
      ]
     },
     "execution_count": 7,
     "metadata": {},
     "output_type": "execute_result"
    }
   ],
   "source": [
    "train.isna().sum()\n"
   ]
  },
  {
   "cell_type": "code",
   "execution_count": 8,
   "metadata": {},
   "outputs": [
    {
     "data": {
      "text/plain": [
       "array(['Low Fat', 'Regular', 'low fat', 'LF', 'reg'], dtype=object)"
      ]
     },
     "execution_count": 8,
     "metadata": {},
     "output_type": "execute_result"
    }
   ],
   "source": [
    "train['Item_Fat_Content'].unique()"
   ]
  },
  {
   "cell_type": "code",
   "execution_count": 9,
   "metadata": {},
   "outputs": [],
   "source": [
    "train.replace({'reg':'Regular','LF':'Low Fat','low fat':'Low Fat'},inplace = True)\n",
    "test.replace({'reg':'Regular','LF':'Low Fat','low fat':'Low Fat'},inplace = True)"
   ]
  },
  {
   "cell_type": "code",
   "execution_count": 10,
   "metadata": {},
   "outputs": [
    {
     "data": {
      "text/plain": [
       "array(['Supermarket Type1', 'Supermarket Type2', 'Grocery Store',\n",
       "       'Supermarket Type3'], dtype=object)"
      ]
     },
     "execution_count": 10,
     "metadata": {},
     "output_type": "execute_result"
    }
   ],
   "source": [
    "train['Outlet_Type'].unique()"
   ]
  },
  {
   "cell_type": "code",
   "execution_count": 11,
   "metadata": {},
   "outputs": [
    {
     "data": {
      "text/plain": [
       "Item_Identifier                 0\n",
       "Item_Weight                  1463\n",
       "Item_Fat_Content                0\n",
       "Item_Visibility                 0\n",
       "Item_Type                       0\n",
       "Item_MRP                        0\n",
       "Outlet_Identifier               0\n",
       "Outlet_Establishment_Year       0\n",
       "Outlet_Size                  2410\n",
       "Outlet_Location_Type            0\n",
       "Outlet_Type                     0\n",
       "Item_Outlet_Sales               0\n",
       "dtype: int64"
      ]
     },
     "execution_count": 11,
     "metadata": {},
     "output_type": "execute_result"
    }
   ],
   "source": [
    "train.isna().sum()"
   ]
  },
  {
   "cell_type": "code",
   "execution_count": 12,
   "metadata": {},
   "outputs": [
    {
     "name": "stdout",
     "output_type": "stream",
     "text": [
      "     Item_Identifier  Item_Weight Item_Fat_Content  Item_Visibility  \\\n",
      "1351           FDM32       20.500          Low Fat         0.000000   \n",
      "4476           FDM32       20.500          Low Fat         0.020588   \n",
      "7037           FDM32       20.500          Low Fat         0.020605   \n",
      "7822           FDM32       20.500          Low Fat         0.020689   \n",
      "1108           FDT38       18.700          Low Fat         0.057654   \n",
      "2688           FDT38       18.700          Low Fat         0.057627   \n",
      "3984           FDT38       18.700          Low Fat         0.057772   \n",
      "273            FDK51       19.850          Low Fat         0.005234   \n",
      "3416           FDK51       19.850          Low Fat         0.005243   \n",
      "4144           FDK51       19.850          Low Fat         0.005231   \n",
      "4159           FDK51       19.850          Low Fat         0.008763   \n",
      "4195           FDK51       19.850          Low Fat         0.005235   \n",
      "5859           FDK51       19.850          Low Fat         0.005210   \n",
      "7788           FDK51       19.850          Low Fat         0.005265   \n",
      "3186           FDU33        7.630          Regular         0.134919   \n",
      "3618           FDU33        7.630          Regular         0.134057   \n",
      "4022           FDU33        7.630          Regular         0.135259   \n",
      "4219           FDU33        7.630          Regular         0.225477   \n",
      "5946           FDU33        7.630          Regular         0.235859   \n",
      "6951           FDU33        7.630          Regular         0.134684   \n",
      "1806           FDN25        7.895          Regular         0.061125   \n",
      "1907           FDN25        7.895          Regular         0.061164   \n",
      "3932           FDN25        7.895          Regular         0.061425   \n",
      "5122           FDN25        7.895          Regular         0.107110   \n",
      "6196           FDN25        7.895          Regular         0.061271   \n",
      "1743           FDP44       16.500          Regular         0.079875   \n",
      "2119           FDP44       16.500          Regular         0.133424   \n",
      "2367           FDP44       16.500          Regular         0.079647   \n",
      "2953           FDP44       16.500          Regular         0.079714   \n",
      "5283           FDP44       16.500          Regular         0.079699   \n",
      "...              ...          ...              ...              ...   \n",
      "5878           NCQ43       17.750          Low Fat         0.111475   \n",
      "1560           FDL09       19.600          Regular         0.224175   \n",
      "1704           FDL09       19.600          Regular         0.128012   \n",
      "3424           FDL09       19.600          Regular         0.128235   \n",
      "4524           FDL09       19.600          Regular         0.128296   \n",
      "5580           FDL09       19.600          Regular         0.127930   \n",
      "6673           FDL09       19.600          Regular         0.127416   \n",
      "668            FDL02       20.000          Regular         0.104245   \n",
      "1131           FDL02       20.000          Regular         0.182237   \n",
      "3938           FDL02       20.000          Regular         0.104083   \n",
      "7988           FDL02       20.000          Regular         0.103997   \n",
      "1548           NCK18        9.600          Low Fat         0.011211   \n",
      "2619           NCK18        9.600          Low Fat         0.006709   \n",
      "3623           NCK18        9.600          Low Fat         0.006725   \n",
      "3803           NCK18        9.600          Low Fat         0.006666   \n",
      "3812           NCK18        9.600          Low Fat         0.006693   \n",
      "6861           NCK18        9.600          Low Fat         0.000000   \n",
      "8212           NCK18        9.600          Low Fat         0.000000   \n",
      "1914           FDW32       18.350          Regular         0.165102   \n",
      "1979           FDW32       18.350          Regular         0.094681   \n",
      "3731           FDW32       18.350          Regular         0.094488   \n",
      "3914           FDW32       18.350          Regular         0.094279   \n",
      "5259           FDW32       18.350          Regular         0.094218   \n",
      "6949           FDW32       18.350          Regular         0.094297   \n",
      "7980           FDW32       18.350          Regular         0.157834   \n",
      "678            FDF44        7.170          Regular         0.059971   \n",
      "2461           FDF44        7.170          Regular         0.059717   \n",
      "4018           FDF44        7.170          Regular         0.059849   \n",
      "5299           FDF44        7.170          Regular         0.059439   \n",
      "7211           FDF44        7.170          Regular         0.059821   \n",
      "\n",
      "                  Item_Type  Item_MRP Outlet_Identifier  \\\n",
      "1351  Fruits and Vegetables   90.8830            OUT010   \n",
      "4476  Fruits and Vegetables   89.5830            OUT013   \n",
      "7037  Fruits and Vegetables   91.0830            OUT046   \n",
      "7822  Fruits and Vegetables   88.1830            OUT018   \n",
      "1108                  Dairy   83.1566            OUT045   \n",
      "2688                  Dairy   83.3566            OUT049   \n",
      "3984                  Dairy   85.3566            OUT018   \n",
      "273                   Dairy  264.0884            OUT035   \n",
      "3416                  Dairy  266.1884            OUT049   \n",
      "4144                  Dairy  265.1884            OUT013   \n",
      "4159                  Dairy  266.6884            OUT010   \n",
      "4195                  Dairy  265.8884            OUT046   \n",
      "5859                  Dairy  265.2884            OUT027   \n",
      "7788                  Dairy  264.5884            OUT017   \n",
      "3186            Snack Foods   46.9402            OUT049   \n",
      "3618            Snack Foods   45.3402            OUT027   \n",
      "4022            Snack Foods   47.2402            OUT018   \n",
      "4219            Snack Foods   45.1402            OUT010   \n",
      "5946            Snack Foods   46.1402            OUT019   \n",
      "6951            Snack Foods   47.0402            OUT035   \n",
      "1806              Breakfast   58.5588            OUT013   \n",
      "1907              Breakfast   59.2588            OUT035   \n",
      "3932              Breakfast   57.7588            OUT018   \n",
      "5122              Breakfast   55.5588            OUT019   \n",
      "6196              Breakfast   56.7588            OUT049   \n",
      "1743  Fruits and Vegetables  102.7332            OUT045   \n",
      "2119  Fruits and Vegetables  102.2332            OUT010   \n",
      "2367  Fruits and Vegetables  101.4332            OUT013   \n",
      "2953  Fruits and Vegetables  101.3332            OUT046   \n",
      "5283  Fruits and Vegetables  100.6332            OUT035   \n",
      "...                     ...       ...               ...   \n",
      "5878                 Others  108.0912            OUT049   \n",
      "1560            Snack Foods  168.8816            OUT019   \n",
      "1704            Snack Foods  166.8816            OUT035   \n",
      "3424            Snack Foods  169.2816            OUT049   \n",
      "4524            Snack Foods  167.2816            OUT045   \n",
      "5580            Snack Foods  167.4816            OUT013   \n",
      "6673            Snack Foods  167.4816            OUT027   \n",
      "668                  Canned  105.3622            OUT049   \n",
      "1131                 Canned  107.1622            OUT019   \n",
      "3938                 Canned  107.4622            OUT046   \n",
      "7988                 Canned  107.4622            OUT013   \n",
      "1548              Household  166.9184            OUT010   \n",
      "2619              Household  164.6184            OUT049   \n",
      "3623              Household  165.9184            OUT018   \n",
      "3803              Household  164.1184            OUT027   \n",
      "3812              Household  164.9184            OUT013   \n",
      "6861              Household  163.9184            OUT035   \n",
      "8212              Household  164.2184            OUT045   \n",
      "1914  Fruits and Vegetables   87.7882            OUT019   \n",
      "1979  Fruits and Vegetables   86.2882            OUT018   \n",
      "3731  Fruits and Vegetables   87.1882            OUT045   \n",
      "3914  Fruits and Vegetables   86.3882            OUT035   \n",
      "5259  Fruits and Vegetables   83.9882            OUT013   \n",
      "6949  Fruits and Vegetables   84.3882            OUT046   \n",
      "7980  Fruits and Vegetables   87.5882            OUT010   \n",
      "678   Fruits and Vegetables  132.1968            OUT018   \n",
      "2461  Fruits and Vegetables  130.9968            OUT035   \n",
      "4018  Fruits and Vegetables  129.4968            OUT045   \n",
      "5299  Fruits and Vegetables  130.9968            OUT027   \n",
      "7211  Fruits and Vegetables  130.3968            OUT049   \n",
      "\n",
      "      Outlet_Establishment_Year Outlet_Size Outlet_Location_Type  \\\n",
      "1351                       1998         NaN               Tier 3   \n",
      "4476                       1987        High               Tier 3   \n",
      "7037                       1997       Small               Tier 1   \n",
      "7822                       2009      Medium               Tier 3   \n",
      "1108                       2002         NaN               Tier 2   \n",
      "2688                       1999      Medium               Tier 1   \n",
      "3984                       2009      Medium               Tier 3   \n",
      "273                        2004       Small               Tier 2   \n",
      "3416                       1999      Medium               Tier 1   \n",
      "4144                       1987        High               Tier 3   \n",
      "4159                       1998         NaN               Tier 3   \n",
      "4195                       1997       Small               Tier 1   \n",
      "5859                       1985      Medium               Tier 3   \n",
      "7788                       2007         NaN               Tier 2   \n",
      "3186                       1999      Medium               Tier 1   \n",
      "3618                       1985      Medium               Tier 3   \n",
      "4022                       2009      Medium               Tier 3   \n",
      "4219                       1998         NaN               Tier 3   \n",
      "5946                       1985       Small               Tier 1   \n",
      "6951                       2004       Small               Tier 2   \n",
      "1806                       1987        High               Tier 3   \n",
      "1907                       2004       Small               Tier 2   \n",
      "3932                       2009      Medium               Tier 3   \n",
      "5122                       1985       Small               Tier 1   \n",
      "6196                       1999      Medium               Tier 1   \n",
      "1743                       2002         NaN               Tier 2   \n",
      "2119                       1998         NaN               Tier 3   \n",
      "2367                       1987        High               Tier 3   \n",
      "2953                       1997       Small               Tier 1   \n",
      "5283                       2004       Small               Tier 2   \n",
      "...                         ...         ...                  ...   \n",
      "5878                       1999      Medium               Tier 1   \n",
      "1560                       1985       Small               Tier 1   \n",
      "1704                       2004       Small               Tier 2   \n",
      "3424                       1999      Medium               Tier 1   \n",
      "4524                       2002         NaN               Tier 2   \n",
      "5580                       1987        High               Tier 3   \n",
      "6673                       1985      Medium               Tier 3   \n",
      "668                        1999      Medium               Tier 1   \n",
      "1131                       1985       Small               Tier 1   \n",
      "3938                       1997       Small               Tier 1   \n",
      "7988                       1987        High               Tier 3   \n",
      "1548                       1998         NaN               Tier 3   \n",
      "2619                       1999      Medium               Tier 1   \n",
      "3623                       2009      Medium               Tier 3   \n",
      "3803                       1985      Medium               Tier 3   \n",
      "3812                       1987        High               Tier 3   \n",
      "6861                       2004       Small               Tier 2   \n",
      "8212                       2002         NaN               Tier 2   \n",
      "1914                       1985       Small               Tier 1   \n",
      "1979                       2009      Medium               Tier 3   \n",
      "3731                       2002         NaN               Tier 2   \n",
      "3914                       2004       Small               Tier 2   \n",
      "5259                       1987        High               Tier 3   \n",
      "6949                       1997       Small               Tier 1   \n",
      "7980                       1998         NaN               Tier 3   \n",
      "678                        2009      Medium               Tier 3   \n",
      "2461                       2004       Small               Tier 2   \n",
      "4018                       2002         NaN               Tier 2   \n",
      "5299                       1985      Medium               Tier 3   \n",
      "7211                       1999      Medium               Tier 1   \n",
      "\n",
      "            Outlet_Type  Item_Outlet_Sales  \n",
      "1351      Grocery Store            89.8830  \n",
      "4476  Supermarket Type1          1797.6600  \n",
      "7037  Supermarket Type1           539.2980  \n",
      "7822  Supermarket Type2           719.0640  \n",
      "1108  Supermarket Type1          1606.5754  \n",
      "2688  Supermarket Type1          1860.2452  \n",
      "3984  Supermarket Type2           591.8962  \n",
      "273   Supermarket Type1          5829.7448  \n",
      "3416  Supermarket Type1          3179.8608  \n",
      "4144  Supermarket Type1          5034.7796  \n",
      "4159      Grocery Store           264.9884  \n",
      "4195  Supermarket Type1          2649.8840  \n",
      "5859  Supermarket Type3          3179.8608  \n",
      "7788  Supermarket Type1          5829.7448  \n",
      "3186  Supermarket Type1           780.9834  \n",
      "3618  Supermarket Type3           918.8040  \n",
      "4022  Supermarket Type2           918.8040  \n",
      "4219      Grocery Store            45.9402  \n",
      "5946      Grocery Store            45.9402  \n",
      "6951  Supermarket Type1          1470.0864  \n",
      "1806  Supermarket Type1           171.7764  \n",
      "1907  Supermarket Type1           801.6232  \n",
      "3932  Supermarket Type2          1145.1760  \n",
      "5122      Grocery Store           229.0352  \n",
      "6196  Supermarket Type1           343.5528  \n",
      "1743  Supermarket Type1          1537.9980  \n",
      "2119      Grocery Store           102.5332  \n",
      "2367  Supermarket Type1          1948.1308  \n",
      "2953  Supermarket Type1          1537.9980  \n",
      "5283  Supermarket Type1          1537.9980  \n",
      "...                 ...                ...  \n",
      "5878  Supermarket Type1          1637.8680  \n",
      "1560      Grocery Store           167.7816  \n",
      "1704  Supermarket Type1          1845.5976  \n",
      "3424  Supermarket Type1          1174.4712  \n",
      "4524  Supermarket Type1          2013.3792  \n",
      "5580  Supermarket Type1          3691.1952  \n",
      "6673  Supermarket Type3          1006.6896  \n",
      "668   Supermarket Type1          1270.3464  \n",
      "1131      Grocery Store           211.7244  \n",
      "3938  Supermarket Type1          3705.1770  \n",
      "7988  Supermarket Type1          1587.9330  \n",
      "1548      Grocery Store           660.4736  \n",
      "2619  Supermarket Type1          2972.1312  \n",
      "3623  Supermarket Type2          2972.1312  \n",
      "3803  Supermarket Type3          3797.7232  \n",
      "3812  Supermarket Type1          2972.1312  \n",
      "6861  Supermarket Type1          4293.0784  \n",
      "8212  Supermarket Type1          1981.4208  \n",
      "1914      Grocery Store           515.3292  \n",
      "1979  Supermarket Type2          1631.8758  \n",
      "3731  Supermarket Type1           515.3292  \n",
      "3914  Supermarket Type1          1545.9876  \n",
      "5259  Supermarket Type1          1202.4348  \n",
      "6949  Supermarket Type1          1116.5466  \n",
      "7980      Grocery Store           171.7764  \n",
      "678   Supermarket Type2          2870.9296  \n",
      "2461  Supermarket Type1          2348.9424  \n",
      "4018  Supermarket Type1          3392.9168  \n",
      "5299  Supermarket Type3          4828.3816  \n",
      "7211  Supermarket Type1          3523.4136  \n",
      "\n",
      "[8523 rows x 12 columns]\n"
     ]
    }
   ],
   "source": [
    "train_data = pd.DataFrame()\n",
    "for item in list(set(train['Item_Identifier'])):\n",
    "  temp = train.loc[train['Item_Identifier']==item].copy()\n",
    "\n",
    "  temp['Item_Weight'].fillna(temp['Item_Weight'].mean(),inplace = True)\n",
    "  train_data = train_data.append(temp)\n",
    "print(train_data)"
   ]
  },
  {
   "cell_type": "code",
   "execution_count": 13,
   "metadata": {},
   "outputs": [
    {
     "name": "stdout",
     "output_type": "stream",
     "text": [
      "     Item_Identifier  Item_Weight Item_Fat_Content  Item_Visibility  \\\n",
      "304            FDM32       20.500          Low Fat         0.020601   \n",
      "466            FDM32       20.500          Low Fat         0.020722   \n",
      "999            FDM32       20.500          Low Fat         0.020647   \n",
      "1054           FDM32       20.500          Low Fat         0.020637   \n",
      "3216           FDM32       20.500          Low Fat         0.020505   \n",
      "952            FDT38       18.700          Low Fat         0.057863   \n",
      "1380           FDT38       18.700          Low Fat         0.057490   \n",
      "3089           FDT38       18.700          Low Fat         0.057537   \n",
      "3139           FDT38       18.700          Low Fat         0.057527   \n",
      "4821           FDT38       18.700          Low Fat         0.057259   \n",
      "1360           FDK51       19.850          Low Fat         0.005256   \n",
      "1396           FDK51       19.850          Low Fat         0.000000   \n",
      "1208           FDU33        7.630          Regular         0.134983   \n",
      "1542           FDU33        7.630          Regular         0.134598   \n",
      "3074           FDU33        7.630          Regular         0.134710   \n",
      "3122           FDU33        7.630          Regular         0.135472   \n",
      "1735           NCJ05       18.700          Low Fat         0.046276   \n",
      "2860           NCJ05       18.700          Low Fat         0.046182   \n",
      "2932           FDN25        7.895          Regular         0.061300   \n",
      "3300           FDN25        7.895          Regular         0.061176   \n",
      "3510           FDN25        7.895          Regular         0.061522   \n",
      "5126           FDN25        7.895          Regular         0.060879   \n",
      "3625           FDP44       16.500          Regular         0.080038   \n",
      "3677           FDP44       16.500          Regular         0.080164   \n",
      "5532           FDP44       16.500          Regular         0.079328   \n",
      "2642           FDN28        5.880          Regular         0.030309   \n",
      "2728           FDN28        5.880          Regular         0.030101   \n",
      "3953           FDN28        5.880          Regular         0.030223   \n",
      "3359           FDO10       13.650          Regular         0.000000   \n",
      "5281           FDO10       13.650          Regular         0.000000   \n",
      "...              ...          ...              ...              ...   \n",
      "3278           NCI18       18.350          Low Fat         0.014021   \n",
      "3914           DRD25        6.135          Low Fat         0.078906   \n",
      "4006           DRD25        6.135          Low Fat         0.079419   \n",
      "2576           NCB30       14.600          Low Fat         0.025848   \n",
      "2803           NCB30       14.600          Low Fat         0.025682   \n",
      "528            FDT11        5.940          Regular         0.051427   \n",
      "1371           FDT11        5.940          Regular         0.029348   \n",
      "3691           FDT11        5.940          Regular         0.029432   \n",
      "4413           FDT11        5.940          Regular         0.029418   \n",
      "4077           NCQ43       17.750          Low Fat         0.186296   \n",
      "5511           NCQ43       17.750          Low Fat         0.000000   \n",
      "494            FDL09       19.600          Regular         0.214306   \n",
      "802            FDL09       19.600          Regular         0.128558   \n",
      "4141           FDL09       19.600          Regular         0.128760   \n",
      "5224           FDL09       19.600          Regular         0.128036   \n",
      "1448           FDL02       20.000          Regular         0.104064   \n",
      "1863           FDL02       20.000          Regular         0.104294   \n",
      "2144           FDL02       20.000          Regular         0.103579   \n",
      "2368           FDL02       20.000          Regular         0.104507   \n",
      "4978           FDL02       20.000          Regular         0.104672   \n",
      "1777           NCK18        9.600          Low Fat         0.006736   \n",
      "2584           NCK18        9.600          Low Fat         0.011728   \n",
      "2958           NCK18        9.600          Low Fat         0.006698   \n",
      "2089           FDW32       18.350          Regular         0.094443   \n",
      "2676           FDW32       18.350          Regular         0.094830   \n",
      "3113           FDW32       18.350          Regular         0.093840   \n",
      "2871           FDF44        7.170          Regular         0.099972   \n",
      "2938           FDF44        7.170          Regular         0.059678   \n",
      "4628           FDF44        7.170          Regular         0.060066   \n",
      "5591           FDF44        7.170          Regular         0.059728   \n",
      "\n",
      "                  Item_Type  Item_MRP Outlet_Identifier  \\\n",
      "304   Fruits and Vegetables   91.6830            OUT035   \n",
      "466   Fruits and Vegetables   91.1830            OUT017   \n",
      "999   Fruits and Vegetables   88.7830            OUT045   \n",
      "1054  Fruits and Vegetables   87.8830            OUT049   \n",
      "3216  Fruits and Vegetables   91.4830            OUT027   \n",
      "952                   Dairy   86.2566            OUT017   \n",
      "1380                  Dairy   84.7566            OUT013   \n",
      "3089                  Dairy   86.3566            OUT046   \n",
      "3139                  Dairy   85.2566            OUT035   \n",
      "4821                  Dairy   85.3566            OUT027   \n",
      "1360                  Dairy  264.0884            OUT018   \n",
      "1396                  Dairy  265.0884            OUT045   \n",
      "1208            Snack Foods   45.2402            OUT045   \n",
      "1542            Snack Foods   44.7402            OUT013   \n",
      "3074            Snack Foods   44.8402            OUT046   \n",
      "3122            Snack Foods   45.2402            OUT017   \n",
      "1735     Health and Hygiene  154.2682            OUT018   \n",
      "2860     Health and Hygiene  153.6682            OUT045   \n",
      "2932              Breakfast   55.4588            OUT045   \n",
      "3300              Breakfast   58.6588            OUT046   \n",
      "3510              Breakfast   55.3588            OUT017   \n",
      "5126              Breakfast   56.1588            OUT027   \n",
      "3625  Fruits and Vegetables  103.0332            OUT018   \n",
      "3677  Fruits and Vegetables  104.5332            OUT017   \n",
      "5532  Fruits and Vegetables  102.7332            OUT027   \n",
      "2642           Frozen Foods  103.4990            OUT045   \n",
      "2728           Frozen Foods  101.7990            OUT027   \n",
      "3953           Frozen Foods  102.6990            OUT013   \n",
      "3359            Snack Foods   57.7588            OUT049   \n",
      "5281            Snack Foods   56.3588            OUT018   \n",
      "...                     ...       ...               ...   \n",
      "3278              Household  222.5746            OUT035   \n",
      "3914            Soft Drinks  112.3860            OUT013   \n",
      "4006            Soft Drinks  111.8860            OUT017   \n",
      "2576              Household  197.5084            OUT017   \n",
      "2803              Household  197.7084            OUT013   \n",
      "528                  Breads  187.7556            OUT019   \n",
      "1371                 Breads  188.4556            OUT013   \n",
      "3691                 Breads  188.7556            OUT045   \n",
      "4413                 Breads  185.8556            OUT049   \n",
      "4077                 Others  108.1912            OUT010   \n",
      "5511                 Others  109.8912            OUT035   \n",
      "494             Snack Foods  166.7816            OUT010   \n",
      "802             Snack Foods  169.0816            OUT018   \n",
      "4141            Snack Foods  169.4816            OUT017   \n",
      "5224            Snack Foods  169.6816            OUT046   \n",
      "1448                 Canned  104.5622            OUT035   \n",
      "1863                 Canned  105.5622            OUT045   \n",
      "2144                 Canned  106.3622            OUT027   \n",
      "2368                 Canned  107.6622            OUT018   \n",
      "4978                 Canned  105.2622            OUT017   \n",
      "1777              Household  166.4184            OUT017   \n",
      "2584              Household  164.5184            OUT019   \n",
      "2958              Household  165.8184            OUT046   \n",
      "2089  Fruits and Vegetables   84.3882            OUT049   \n",
      "2676  Fruits and Vegetables   85.6882            OUT017   \n",
      "3113  Fruits and Vegetables   86.8882            OUT027   \n",
      "2871  Fruits and Vegetables  132.4968            OUT010   \n",
      "2938  Fruits and Vegetables  129.5968            OUT013   \n",
      "4628  Fruits and Vegetables  130.9968            OUT017   \n",
      "5591  Fruits and Vegetables  132.2968            OUT046   \n",
      "\n",
      "      Outlet_Establishment_Year Outlet_Size Outlet_Location_Type  \\\n",
      "304                        2004       Small               Tier 2   \n",
      "466                        2007         NaN               Tier 2   \n",
      "999                        2002         NaN               Tier 2   \n",
      "1054                       1999      Medium               Tier 1   \n",
      "3216                       1985      Medium               Tier 3   \n",
      "952                        2007         NaN               Tier 2   \n",
      "1380                       1987        High               Tier 3   \n",
      "3089                       1997       Small               Tier 1   \n",
      "3139                       2004       Small               Tier 2   \n",
      "4821                       1985      Medium               Tier 3   \n",
      "1360                       2009      Medium               Tier 3   \n",
      "1396                       2002         NaN               Tier 2   \n",
      "1208                       2002         NaN               Tier 2   \n",
      "1542                       1987        High               Tier 3   \n",
      "3074                       1997       Small               Tier 1   \n",
      "3122                       2007         NaN               Tier 2   \n",
      "1735                       2009      Medium               Tier 3   \n",
      "2860                       2002         NaN               Tier 2   \n",
      "2932                       2002         NaN               Tier 2   \n",
      "3300                       1997       Small               Tier 1   \n",
      "3510                       2007         NaN               Tier 2   \n",
      "5126                       1985      Medium               Tier 3   \n",
      "3625                       2009      Medium               Tier 3   \n",
      "3677                       2007         NaN               Tier 2   \n",
      "5532                       1985      Medium               Tier 3   \n",
      "2642                       2002         NaN               Tier 2   \n",
      "2728                       1985      Medium               Tier 3   \n",
      "3953                       1987        High               Tier 3   \n",
      "3359                       1999      Medium               Tier 1   \n",
      "5281                       2009      Medium               Tier 3   \n",
      "...                         ...         ...                  ...   \n",
      "3278                       2004       Small               Tier 2   \n",
      "3914                       1987        High               Tier 3   \n",
      "4006                       2007         NaN               Tier 2   \n",
      "2576                       2007         NaN               Tier 2   \n",
      "2803                       1987        High               Tier 3   \n",
      "528                        1985       Small               Tier 1   \n",
      "1371                       1987        High               Tier 3   \n",
      "3691                       2002         NaN               Tier 2   \n",
      "4413                       1999      Medium               Tier 1   \n",
      "4077                       1998         NaN               Tier 3   \n",
      "5511                       2004       Small               Tier 2   \n",
      "494                        1998         NaN               Tier 3   \n",
      "802                        2009      Medium               Tier 3   \n",
      "4141                       2007         NaN               Tier 2   \n",
      "5224                       1997       Small               Tier 1   \n",
      "1448                       2004       Small               Tier 2   \n",
      "1863                       2002         NaN               Tier 2   \n",
      "2144                       1985      Medium               Tier 3   \n",
      "2368                       2009      Medium               Tier 3   \n",
      "4978                       2007         NaN               Tier 2   \n",
      "1777                       2007         NaN               Tier 2   \n",
      "2584                       1985       Small               Tier 1   \n",
      "2958                       1997       Small               Tier 1   \n",
      "2089                       1999      Medium               Tier 1   \n",
      "2676                       2007         NaN               Tier 2   \n",
      "3113                       1985      Medium               Tier 3   \n",
      "2871                       1998         NaN               Tier 3   \n",
      "2938                       1987        High               Tier 3   \n",
      "4628                       2007         NaN               Tier 2   \n",
      "5591                       1997       Small               Tier 1   \n",
      "\n",
      "            Outlet_Type  \n",
      "304   Supermarket Type1  \n",
      "466   Supermarket Type1  \n",
      "999   Supermarket Type1  \n",
      "1054  Supermarket Type1  \n",
      "3216  Supermarket Type3  \n",
      "952   Supermarket Type1  \n",
      "1380  Supermarket Type1  \n",
      "3089  Supermarket Type1  \n",
      "3139  Supermarket Type1  \n",
      "4821  Supermarket Type3  \n",
      "1360  Supermarket Type2  \n",
      "1396  Supermarket Type1  \n",
      "1208  Supermarket Type1  \n",
      "1542  Supermarket Type1  \n",
      "3074  Supermarket Type1  \n",
      "3122  Supermarket Type1  \n",
      "1735  Supermarket Type2  \n",
      "2860  Supermarket Type1  \n",
      "2932  Supermarket Type1  \n",
      "3300  Supermarket Type1  \n",
      "3510  Supermarket Type1  \n",
      "5126  Supermarket Type3  \n",
      "3625  Supermarket Type2  \n",
      "3677  Supermarket Type1  \n",
      "5532  Supermarket Type3  \n",
      "2642  Supermarket Type1  \n",
      "2728  Supermarket Type3  \n",
      "3953  Supermarket Type1  \n",
      "3359  Supermarket Type1  \n",
      "5281  Supermarket Type2  \n",
      "...                 ...  \n",
      "3278  Supermarket Type1  \n",
      "3914  Supermarket Type1  \n",
      "4006  Supermarket Type1  \n",
      "2576  Supermarket Type1  \n",
      "2803  Supermarket Type1  \n",
      "528       Grocery Store  \n",
      "1371  Supermarket Type1  \n",
      "3691  Supermarket Type1  \n",
      "4413  Supermarket Type1  \n",
      "4077      Grocery Store  \n",
      "5511  Supermarket Type1  \n",
      "494       Grocery Store  \n",
      "802   Supermarket Type2  \n",
      "4141  Supermarket Type1  \n",
      "5224  Supermarket Type1  \n",
      "1448  Supermarket Type1  \n",
      "1863  Supermarket Type1  \n",
      "2144  Supermarket Type3  \n",
      "2368  Supermarket Type2  \n",
      "4978  Supermarket Type1  \n",
      "1777  Supermarket Type1  \n",
      "2584      Grocery Store  \n",
      "2958  Supermarket Type1  \n",
      "2089  Supermarket Type1  \n",
      "2676  Supermarket Type1  \n",
      "3113  Supermarket Type3  \n",
      "2871      Grocery Store  \n",
      "2938  Supermarket Type1  \n",
      "4628  Supermarket Type1  \n",
      "5591  Supermarket Type1  \n",
      "\n",
      "[5681 rows x 11 columns]\n"
     ]
    }
   ],
   "source": [
    "\n",
    "test_data = pd.DataFrame()\n",
    "for item in list(set(test['Item_Identifier'])):\n",
    "  temp = test.loc[test['Item_Identifier']==item].copy()\n",
    "\n",
    "  temp['Item_Weight'].fillna(temp['Item_Weight'].mean(),inplace = True)\n",
    "  test_data = test_data.append(temp)\n",
    "print(test_data)"
   ]
  },
  {
   "cell_type": "code",
   "execution_count": 14,
   "metadata": {},
   "outputs": [
    {
     "data": {
      "text/plain": [
       "Item_Identifier                 0\n",
       "Item_Weight                     4\n",
       "Item_Fat_Content                0\n",
       "Item_Visibility                 0\n",
       "Item_Type                       0\n",
       "Item_MRP                        0\n",
       "Outlet_Identifier               0\n",
       "Outlet_Establishment_Year       0\n",
       "Outlet_Size                  2410\n",
       "Outlet_Location_Type            0\n",
       "Outlet_Type                     0\n",
       "Item_Outlet_Sales               0\n",
       "dtype: int64"
      ]
     },
     "execution_count": 14,
     "metadata": {},
     "output_type": "execute_result"
    }
   ],
   "source": [
    "train_data.isna().sum()"
   ]
  },
  {
   "cell_type": "code",
   "execution_count": 15,
   "metadata": {},
   "outputs": [
    {
     "data": {
      "text/plain": [
       "['FDQ60', 'FDK57', 'FDE52', 'FDN52']"
      ]
     },
     "execution_count": 15,
     "metadata": {},
     "output_type": "execute_result"
    }
   ],
   "source": [
    "products = list(train_data[train_data['Item_Weight'].isnull()]['Item_Identifier'])\n",
    "products"
   ]
  },
  {
   "cell_type": "code",
   "execution_count": 16,
   "metadata": {},
   "outputs": [
    {
     "data": {
      "text/plain": [
       "20"
      ]
     },
     "execution_count": 16,
     "metadata": {},
     "output_type": "execute_result"
    }
   ],
   "source": [
    "test_products = list(test_data[test_data['Item_Weight'].isnull()]['Item_Identifier'])\n",
    "len(test_products)"
   ]
  },
  {
   "cell_type": "code",
   "execution_count": 17,
   "metadata": {},
   "outputs": [],
   "source": [
    "product_price_test=[]\n",
    "for item in test_products:\n",
    "    product_price_test.append(train[train['Item_Identifier']==item].iloc[0]['Item_Weight'])\n",
    "dictionary=dict(zip(test_products,product_price_test))   "
   ]
  },
  {
   "cell_type": "code",
   "execution_count": 18,
   "metadata": {},
   "outputs": [],
   "source": [
    "product_price = []\n",
    "for item in products:\n",
    "  product_price.append(test[test['Item_Identifier'] == item].iloc[0]['Item_Weight'])\n",
    "dictionary = dict(zip(products, product_price))"
   ]
  },
  {
   "cell_type": "code",
   "execution_count": 19,
   "metadata": {},
   "outputs": [
    {
     "data": {
      "text/plain": [
       "{'FDQ60': 6.195, 'FDK57': 10.195, 'FDE52': 10.395, 'FDN52': 9.395}"
      ]
     },
     "execution_count": 19,
     "metadata": {},
     "output_type": "execute_result"
    }
   ],
   "source": [
    "dictionary"
   ]
  },
  {
   "cell_type": "code",
   "execution_count": 20,
   "metadata": {},
   "outputs": [],
   "source": [
    "train_data.loc[train_data['Item_Weight'].isnull(),'Item_Weight'] = train_data['Item_Identifier'].map(dictionary)"
   ]
  },
  {
   "cell_type": "code",
   "execution_count": 21,
   "metadata": {},
   "outputs": [],
   "source": [
    "test_data.loc[test_data['Item_Weight'].isnull(),'Item_Weight'] = test_data['Item_Identifier'].map(dictionary)"
   ]
  },
  {
   "cell_type": "code",
   "execution_count": 22,
   "metadata": {},
   "outputs": [
    {
     "data": {
      "text/plain": [
       "Item_Identifier                 0\n",
       "Item_Weight                     0\n",
       "Item_Fat_Content                0\n",
       "Item_Visibility                 0\n",
       "Item_Type                       0\n",
       "Item_MRP                        0\n",
       "Outlet_Identifier               0\n",
       "Outlet_Establishment_Year       0\n",
       "Outlet_Size                  2410\n",
       "Outlet_Location_Type            0\n",
       "Outlet_Type                     0\n",
       "Item_Outlet_Sales               0\n",
       "dtype: int64"
      ]
     },
     "execution_count": 22,
     "metadata": {},
     "output_type": "execute_result"
    }
   ],
   "source": [
    "train_data.isna().sum()"
   ]
  },
  {
   "cell_type": "code",
   "execution_count": 23,
   "metadata": {},
   "outputs": [
    {
     "data": {
      "text/plain": [
       "array(['Grocery Store', 'Supermarket Type1', 'Supermarket Type2',\n",
       "       'Supermarket Type3'], dtype=object)"
      ]
     },
     "execution_count": 23,
     "metadata": {},
     "output_type": "execute_result"
    }
   ],
   "source": [
    "train_data['Outlet_Type'].unique()"
   ]
  },
  {
   "cell_type": "code",
   "execution_count": 24,
   "metadata": {},
   "outputs": [
    {
     "data": {
      "text/plain": [
       "<matplotlib.axes._subplots.AxesSubplot at 0x21ed01f7a90>"
      ]
     },
     "execution_count": 24,
     "metadata": {},
     "output_type": "execute_result"
    },
    {
     "data": {
      "image/png": "[encoded data removed]",
      "text/plain": [
       "<Figure size 1440x720 with 1 Axes>"
      ]
     },
     "metadata": {
      "needs_background": "light"
     },
     "output_type": "display_data"
    }
   ],
   "source": [
    "import seaborn as sns\n",
    "plt.figure(figsize=(20,10))\n",
    "sns.countplot(train_data['Outlet_Type'],hue=train_data[\"Outlet_Size\"])"
   ]
  },
  {
   "cell_type": "code",
   "execution_count": 25,
   "metadata": {},
   "outputs": [],
   "source": [
    "#Imputing the data\n",
    "train_data.loc[train_data['Outlet_Type']=='Grocery Store', 'Outlet_Size'] = 'Small'\n",
    "train_data.loc[train_data['Outlet_Type']=='Supermarket Type1', 'Outlet_Size'] = train_data['Outlet_Size'].fillna('Small')\n",
    "train_data.loc[train_data['Outlet_Type']=='Supermarket Type2', 'Outlet_Size'] = train_data['Outlet_Size'].fillna('Medium')"
   ]
  },
  {
   "cell_type": "code",
   "execution_count": 26,
   "metadata": {},
   "outputs": [
    {
     "data": {
      "text/plain": [
       "Item_Identifier              0\n",
       "Item_Weight                  0\n",
       "Item_Fat_Content             0\n",
       "Item_Visibility              0\n",
       "Item_Type                    0\n",
       "Item_MRP                     0\n",
       "Outlet_Identifier            0\n",
       "Outlet_Establishment_Year    0\n",
       "Outlet_Size                  0\n",
       "Outlet_Location_Type         0\n",
       "Outlet_Type                  0\n",
       "Item_Outlet_Sales            0\n",
       "dtype: int64"
      ]
     },
     "execution_count": 26,
     "metadata": {},
     "output_type": "execute_result"
    }
   ],
   "source": [
    "train_data.isna().sum()"
   ]
  },
  {
   "cell_type": "code",
   "execution_count": 27,
   "metadata": {},
   "outputs": [],
   "source": [
    "train_data.to_csv('trainData.csv')"
   ]
  },
  {
   "cell_type": "markdown",
   "metadata": {},
   "source": [
    "#### Data Preprocessing"
   ]
  },
  {
   "cell_type": "code",
   "execution_count": 28,
   "metadata": {},
   "outputs": [],
   "source": [
    "train=pd.read_csv(r\"C:\\Users\\SaurabhM\\Jupyter Project Files\\My Works\\Big Mart Predicition\\trainData.csv\")"
   ]
  },
  {
   "cell_type": "code",
   "execution_count": 29,
   "metadata": {},
   "outputs": [
    {
     "data": {
      "text/plain": [
       "(526, 13)"
      ]
     },
     "execution_count": 29,
     "metadata": {},
     "output_type": "execute_result"
    }
   ],
   "source": [
    "train[train['Item_Visibility']==0].shape"
   ]
  },
  {
   "cell_type": "code",
   "execution_count": 30,
   "metadata": {},
   "outputs": [
    {
     "data": {
      "text/plain": [
       "Unnamed: 0                   0\n",
       "Item_Identifier              0\n",
       "Item_Weight                  0\n",
       "Item_Fat_Content             0\n",
       "Item_Visibility              0\n",
       "Item_Type                    0\n",
       "Item_MRP                     0\n",
       "Outlet_Identifier            0\n",
       "Outlet_Establishment_Year    0\n",
       "Outlet_Size                  0\n",
       "Outlet_Location_Type         0\n",
       "Outlet_Type                  0\n",
       "Item_Outlet_Sales            0\n",
       "dtype: int64"
      ]
     },
     "execution_count": 30,
     "metadata": {},
     "output_type": "execute_result"
    }
   ],
   "source": [
    "train.isnull().sum()"
   ]
  },
  {
   "cell_type": "code",
   "execution_count": 31,
   "metadata": {},
   "outputs": [
    {
     "data": {
      "text/plain": [
       "dtype('O')"
      ]
     },
     "execution_count": 31,
     "metadata": {},
     "output_type": "execute_result"
    }
   ],
   "source": [
    "train['Item_Identifier'].dtypes"
   ]
  },
  {
   "cell_type": "code",
   "execution_count": 32,
   "metadata": {},
   "outputs": [],
   "source": [
    "\n",
    "train_data = pd.DataFrame()\n",
    "for item in list(set(train['Item_Identifier'])):\n",
    "  temp = train.loc[train['Item_Identifier']==item].copy()\n",
    "  temp['Item_Visibility'] = temp['Item_Visibility'].replace(to_replace = 0, value = temp['Item_Visibility'].mean())\n",
    "  train_data = train_data.append(temp,ignore_index=False)\n",
    "#print(train_data)"
   ]
  },
  {
   "cell_type": "code",
   "execution_count": 33,
   "metadata": {},
   "outputs": [],
   "source": [
    "testData = pd.DataFrame()\n",
    "for item in list(set(test['Item_Identifier'])):\n",
    "  temp = test_data.loc[test_data['Item_Identifier']==item].copy()\n",
    "  temp['Item_Visibility'] = temp['Item_Visibility'].replace(to_replace = 0, value = temp['Item_Visibility'].mean())\n",
    "  testData = testData.append(temp,ignore_index=False)"
   ]
  },
  {
   "cell_type": "code",
   "execution_count": 34,
   "metadata": {},
   "outputs": [
    {
     "data": {
      "text/plain": [
       "FDW13    10\n",
       "FDG33    10\n",
       "DRE49     9\n",
       "FDX04     9\n",
       "FDX20     9\n",
       "DRN47     9\n",
       "FDP25     9\n",
       "FDW49     9\n",
       "NCI54     9\n",
       "FDX31     9\n",
       "NCJ30     9\n",
       "FDD38     9\n",
       "FDF56     9\n",
       "FDU12     9\n",
       "FDV60     9\n",
       "FDG09     9\n",
       "NCY18     9\n",
       "NCL31     9\n",
       "FDF52     9\n",
       "FDV38     9\n",
       "FDW26     9\n",
       "NCQ06     9\n",
       "NCF42     9\n",
       "FDQ40     9\n",
       "NCB18     9\n",
       "FDT07     9\n",
       "FDO19     9\n",
       "NCX05     8\n",
       "FDL20     8\n",
       "FDR48     8\n",
       "         ..\n",
       "FDW58     2\n",
       "DRC24     2\n",
       "NCS41     2\n",
       "FDW10     2\n",
       "FDE38     2\n",
       "FDZ50     2\n",
       "NCC55     2\n",
       "FDA48     2\n",
       "FDF38     2\n",
       "DRL59     2\n",
       "FDU09     2\n",
       "FDT33     2\n",
       "NCM42     2\n",
       "NCX53     2\n",
       "FDB10     2\n",
       "FDR03     2\n",
       "FDG28     2\n",
       "FDM16     2\n",
       "FDD22     2\n",
       "FDR57     2\n",
       "FDP15     2\n",
       "FDQ60     1\n",
       "FDT35     1\n",
       "FDO33     1\n",
       "FDN52     1\n",
       "DRF48     1\n",
       "FDK57     1\n",
       "FDE52     1\n",
       "FDC23     1\n",
       "FDY43     1\n",
       "Name: Item_Identifier, Length: 1559, dtype: int64"
      ]
     },
     "execution_count": 34,
     "metadata": {},
     "output_type": "execute_result"
    }
   ],
   "source": [
    "train_data['Item_Identifier'].value_counts()"
   ]
  },
  {
   "cell_type": "code",
   "execution_count": 35,
   "metadata": {},
   "outputs": [
    {
     "data": {
      "text/plain": [
       "Food              6125\n",
       "Non-Consumable    1599\n",
       "Drinks             799\n",
       "Name: Item_Type_Combined, dtype: int64"
      ]
     },
     "execution_count": 35,
     "metadata": {},
     "output_type": "execute_result"
    }
   ],
   "source": [
    "\n",
    "train_data['Item_Type_Combined'] = train_data['Item_Identifier'].apply(lambda x: x[0:2])\n",
    "#Rename them to more intuitive categories:\n",
    "train_data['Item_Type_Combined'] = train_data['Item_Type_Combined'].map({'FD':'Food',\n",
    "                                                             'NC':'Non-Consumable',\n",
    "                                                             'DR':'Drinks'})\n",
    "train_data['Item_Type_Combined'].value_counts()"
   ]
  },
  {
   "cell_type": "code",
   "execution_count": 36,
   "metadata": {},
   "outputs": [
    {
     "data": {
      "text/plain": [
       "Food              4076\n",
       "Non-Consumable    1087\n",
       "Drinks             518\n",
       "Name: Item_Type_Combined, dtype: int64"
      ]
     },
     "execution_count": 36,
     "metadata": {},
     "output_type": "execute_result"
    }
   ],
   "source": [
    "#Get the first two characters of ID:\n",
    "testData['Item_Type_Combined'] = testData['Item_Identifier'].apply(lambda x: x[0:2])\n",
    "#Rename them to more intuitive categories:\n",
    "testData['Item_Type_Combined'] = testData['Item_Type_Combined'].map({'FD':'Food',\n",
    "                                                             'NC':'Non-Consumable',\n",
    "                                                             'DR':'Drinks'})\n",
    "testData['Item_Type_Combined'].value_counts()"
   ]
  },
  {
   "cell_type": "code",
   "execution_count": 37,
   "metadata": {},
   "outputs": [],
   "source": [
    "train_data['Outlet_Age'] = 2013 - train_data['Outlet_Establishment_Year']\n",
    "testData['Outlet_Age'] = 2013 - testData['Outlet_Establishment_Year']"
   ]
  },
  {
   "cell_type": "code",
   "execution_count": 38,
   "metadata": {},
   "outputs": [],
   "source": [
    "categorical_columns = list(train_data.columns[train_data.dtypes == 'object'])\n",
    "usefull = ['Item_Identifier','Outlet_Identifier']\n",
    "for i in usefull:\n",
    "    categorical_columns.remove(i)"
   ]
  },
  {
   "cell_type": "code",
   "execution_count": 39,
   "metadata": {},
   "outputs": [],
   "source": [
    "\n",
    "from sklearn import preprocessing \n",
    "  \n",
    "# label_encoder object knows how to understand word labels. \n",
    "label_encoder = preprocessing.LabelEncoder() \n",
    "  \n",
    "for column in categorical_columns:\n",
    "    train_data[column]= label_encoder.fit_transform(train_data[column])"
   ]
  },
  {
   "cell_type": "code",
   "execution_count": 42,
   "metadata": {},
   "outputs": [
    {
     "data": {
      "text/plain": [
       "['Outlet_Size', 'Outlet_Location_Type', 'Outlet_Type', 'Item_Type_Combined']"
      ]
     },
     "execution_count": 42,
     "metadata": {},
     "output_type": "execute_result"
    }
   ],
   "source": [
    "categorical_columns = list(testData.columns[testData.dtypes == 'object'])\n",
    "usefull = ['Item_Identifier','Outlet_Identifier']\n",
    "for i in usefull:\n",
    "    categorical_columns.remove(i)\n",
    "    \n",
    "categorical_columns"
   ]
  },
  {
   "cell_type": "code",
   "execution_count": 50,
   "metadata": {},
   "outputs": [],
   "source": [
    "from sklearn import preprocessing     \n",
    "label_encoder = preprocessing.LabelEncoder() \n",
    "  \n",
    "#for column in categorical_columns:\n",
    "testData[\"Outlet_Type\"]= label_encoder.fit_transform(testData[\"Outlet_Type\"])"
   ]
  },
  {
   "cell_type": "code",
   "execution_count": 43,
   "metadata": {},
   "outputs": [
    {
     "data": {
      "text/plain": [
       "<matplotlib.axes._subplots.AxesSubplot at 0x21ed2695b38>"
      ]
     },
     "execution_count": 43,
     "metadata": {},
     "output_type": "execute_result"
    },
    {
     "data": {
      "image/png": "[encoded data removed]",
      "text/plain": [
       "<Figure size 432x288 with 1 Axes>"
      ]
     },
     "metadata": {
      "needs_background": "light"
     },
     "output_type": "display_data"
    }
   ],
   "source": [
    "sns.countplot(testData['Outlet_Size'])"
   ]
  },
  {
   "cell_type": "code",
   "execution_count": 44,
   "metadata": {},
   "outputs": [
    {
     "data": {
      "text/plain": [
       "<matplotlib.axes._subplots.AxesSubplot at 0x21ed2d1cef0>"
      ]
     },
     "execution_count": 44,
     "metadata": {},
     "output_type": "execute_result"
    },
    {
     "data": {
      "image/png": "[encoded data removed]",
      "text/plain": [
       "<Figure size 432x288 with 1 Axes>"
      ]
     },
     "metadata": {
      "needs_background": "light"
     },
     "output_type": "display_data"
    }
   ],
   "source": [
    "sns.countplot(testData['Outlet_Location_Type'])"
   ]
  },
  {
   "cell_type": "code",
   "execution_count": 46,
   "metadata": {},
   "outputs": [
    {
     "data": {
      "text/plain": [
       "<matplotlib.axes._subplots.AxesSubplot at 0x21ed2d24518>"
      ]
     },
     "execution_count": 46,
     "metadata": {},
     "output_type": "execute_result"
    },
    {
     "data": {
      "image/png": "[encoded data removed]",
      "text/plain": [
       "<Figure size 1440x720 with 1 Axes>"
      ]
     },
     "metadata": {
      "needs_background": "light"
     },
     "output_type": "display_data"
    }
   ],
   "source": [
    "plt.figure(figsize=(20,10))\n",
    "sns.countplot(testData['Outlet_Type'])"
   ]
  },
  {
   "cell_type": "code",
   "execution_count": 47,
   "metadata": {},
   "outputs": [
    {
     "data": {
      "text/plain": [
       "<matplotlib.axes._subplots.AxesSubplot at 0x21ed2d1c2e8>"
      ]
     },
     "execution_count": 47,
     "metadata": {},
     "output_type": "execute_result"
    },
    {
     "data": {
      "image/png": "[encoded data removed]",
      "text/plain": [
       "<Figure size 1440x720 with 1 Axes>"
      ]
     },
     "metadata": {
      "needs_background": "light"
     },
     "output_type": "display_data"
    }
   ],
   "source": [
    "plt.figure(figsize=(20,10))\n",
    "sns.countplot(testData['Item_Type_Combined'])"
   ]
  },
  {
   "cell_type": "code",
   "execution_count": 52,
   "metadata": {},
   "outputs": [],
   "source": [
    "\n",
    "testData['Outlet_Location_Type']= label_encoder.fit_transform(testData['Outlet_Location_Type'])\n"
   ]
  },
  {
   "cell_type": "code",
   "execution_count": 53,
   "metadata": {},
   "outputs": [],
   "source": [
    "testData['Item_Type_Combined']= label_encoder.fit_transform(testData['Item_Type_Combined'])"
   ]
  },
  {
   "cell_type": "code",
   "execution_count": 54,
   "metadata": {},
   "outputs": [
    {
     "ename": "TypeError",
     "evalue": "argument must be a string or number",
     "output_type": "error",
     "traceback": [
      "\u001b[1;31m---------------------------------------------------------------------------\u001b[0m",
      "\u001b[1;31mTypeError\u001b[0m                                 Traceback (most recent call last)",
      "\u001b[1;32m~\\Anaconda3\\lib\\site-packages\\sklearn\\preprocessing\\_label.py\u001b[0m in \u001b[0;36m_encode\u001b[1;34m(values, uniques, encode, check_unknown)\u001b[0m\n\u001b[0;32m    111\u001b[0m         \u001b[1;32mtry\u001b[0m\u001b[1;33m:\u001b[0m\u001b[1;33m\u001b[0m\u001b[1;33m\u001b[0m\u001b[0m\n\u001b[1;32m--> 112\u001b[1;33m             \u001b[0mres\u001b[0m \u001b[1;33m=\u001b[0m \u001b[0m_encode_python\u001b[0m\u001b[1;33m(\u001b[0m\u001b[0mvalues\u001b[0m\u001b[1;33m,\u001b[0m \u001b[0muniques\u001b[0m\u001b[1;33m,\u001b[0m \u001b[0mencode\u001b[0m\u001b[1;33m)\u001b[0m\u001b[1;33m\u001b[0m\u001b[1;33m\u001b[0m\u001b[0m\n\u001b[0m\u001b[0;32m    113\u001b[0m         \u001b[1;32mexcept\u001b[0m \u001b[0mTypeError\u001b[0m\u001b[1;33m:\u001b[0m\u001b[1;33m\u001b[0m\u001b[1;33m\u001b[0m\u001b[0m\n",
      "\u001b[1;32m~\\Anaconda3\\lib\\site-packages\\sklearn\\preprocessing\\_label.py\u001b[0m in \u001b[0;36m_encode_python\u001b[1;34m(values, uniques, encode)\u001b[0m\n\u001b[0;32m     59\u001b[0m     \u001b[1;32mif\u001b[0m \u001b[0muniques\u001b[0m \u001b[1;32mis\u001b[0m \u001b[1;32mNone\u001b[0m\u001b[1;33m:\u001b[0m\u001b[1;33m\u001b[0m\u001b[1;33m\u001b[0m\u001b[0m\n\u001b[1;32m---> 60\u001b[1;33m         \u001b[0muniques\u001b[0m \u001b[1;33m=\u001b[0m \u001b[0msorted\u001b[0m\u001b[1;33m(\u001b[0m\u001b[0mset\u001b[0m\u001b[1;33m(\u001b[0m\u001b[0mvalues\u001b[0m\u001b[1;33m)\u001b[0m\u001b[1;33m)\u001b[0m\u001b[1;33m\u001b[0m\u001b[1;33m\u001b[0m\u001b[0m\n\u001b[0m\u001b[0;32m     61\u001b[0m         \u001b[0muniques\u001b[0m \u001b[1;33m=\u001b[0m \u001b[0mnp\u001b[0m\u001b[1;33m.\u001b[0m\u001b[0marray\u001b[0m\u001b[1;33m(\u001b[0m\u001b[0muniques\u001b[0m\u001b[1;33m,\u001b[0m \u001b[0mdtype\u001b[0m\u001b[1;33m=\u001b[0m\u001b[0mvalues\u001b[0m\u001b[1;33m.\u001b[0m\u001b[0mdtype\u001b[0m\u001b[1;33m)\u001b[0m\u001b[1;33m\u001b[0m\u001b[1;33m\u001b[0m\u001b[0m\n",
      "\u001b[1;31mTypeError\u001b[0m: '<' not supported between instances of 'str' and 'float'",
      "\nDuring handling of the above exception, another exception occurred:\n",
      "\u001b[1;31mTypeError\u001b[0m                                 Traceback (most recent call last)",
      "\u001b[1;32m<ipython-input-54-f644c27f619a>\u001b[0m in \u001b[0;36m<module>\u001b[1;34m\u001b[0m\n\u001b[1;32m----> 1\u001b[1;33m \u001b[0mtestData\u001b[0m\u001b[1;33m[\u001b[0m\u001b[1;34m\"Outlet_Size\"\u001b[0m\u001b[1;33m]\u001b[0m\u001b[1;33m=\u001b[0m \u001b[0mlabel_encoder\u001b[0m\u001b[1;33m.\u001b[0m\u001b[0mfit_transform\u001b[0m\u001b[1;33m(\u001b[0m\u001b[0mtestData\u001b[0m\u001b[1;33m[\u001b[0m\u001b[1;34m\"Outlet_Size\"\u001b[0m\u001b[1;33m]\u001b[0m\u001b[1;33m)\u001b[0m\u001b[1;33m\u001b[0m\u001b[1;33m\u001b[0m\u001b[0m\n\u001b[0m",
      "\u001b[1;32m~\\Anaconda3\\lib\\site-packages\\sklearn\\preprocessing\\_label.py\u001b[0m in \u001b[0;36mfit_transform\u001b[1;34m(self, y)\u001b[0m\n\u001b[0;32m    250\u001b[0m         \"\"\"\n\u001b[0;32m    251\u001b[0m         \u001b[0my\u001b[0m \u001b[1;33m=\u001b[0m \u001b[0mcolumn_or_1d\u001b[0m\u001b[1;33m(\u001b[0m\u001b[0my\u001b[0m\u001b[1;33m,\u001b[0m \u001b[0mwarn\u001b[0m\u001b[1;33m=\u001b[0m\u001b[1;32mTrue\u001b[0m\u001b[1;33m)\u001b[0m\u001b[1;33m\u001b[0m\u001b[1;33m\u001b[0m\u001b[0m\n\u001b[1;32m--> 252\u001b[1;33m         \u001b[0mself\u001b[0m\u001b[1;33m.\u001b[0m\u001b[0mclasses_\u001b[0m\u001b[1;33m,\u001b[0m \u001b[0my\u001b[0m \u001b[1;33m=\u001b[0m \u001b[0m_encode\u001b[0m\u001b[1;33m(\u001b[0m\u001b[0my\u001b[0m\u001b[1;33m,\u001b[0m \u001b[0mencode\u001b[0m\u001b[1;33m=\u001b[0m\u001b[1;32mTrue\u001b[0m\u001b[1;33m)\u001b[0m\u001b[1;33m\u001b[0m\u001b[1;33m\u001b[0m\u001b[0m\n\u001b[0m\u001b[0;32m    253\u001b[0m         \u001b[1;32mreturn\u001b[0m \u001b[0my\u001b[0m\u001b[1;33m\u001b[0m\u001b[1;33m\u001b[0m\u001b[0m\n\u001b[0;32m    254\u001b[0m \u001b[1;33m\u001b[0m\u001b[0m\n",
      "\u001b[1;32m~\\Anaconda3\\lib\\site-packages\\sklearn\\preprocessing\\_label.py\u001b[0m in \u001b[0;36m_encode\u001b[1;34m(values, uniques, encode, check_unknown)\u001b[0m\n\u001b[0;32m    112\u001b[0m             \u001b[0mres\u001b[0m \u001b[1;33m=\u001b[0m \u001b[0m_encode_python\u001b[0m\u001b[1;33m(\u001b[0m\u001b[0mvalues\u001b[0m\u001b[1;33m,\u001b[0m \u001b[0muniques\u001b[0m\u001b[1;33m,\u001b[0m \u001b[0mencode\u001b[0m\u001b[1;33m)\u001b[0m\u001b[1;33m\u001b[0m\u001b[1;33m\u001b[0m\u001b[0m\n\u001b[0;32m    113\u001b[0m         \u001b[1;32mexcept\u001b[0m \u001b[0mTypeError\u001b[0m\u001b[1;33m:\u001b[0m\u001b[1;33m\u001b[0m\u001b[1;33m\u001b[0m\u001b[0m\n\u001b[1;32m--> 114\u001b[1;33m             \u001b[1;32mraise\u001b[0m \u001b[0mTypeError\u001b[0m\u001b[1;33m(\u001b[0m\u001b[1;34m\"argument must be a string or number\"\u001b[0m\u001b[1;33m)\u001b[0m\u001b[1;33m\u001b[0m\u001b[1;33m\u001b[0m\u001b[0m\n\u001b[0m\u001b[0;32m    115\u001b[0m         \u001b[1;32mreturn\u001b[0m \u001b[0mres\u001b[0m\u001b[1;33m\u001b[0m\u001b[1;33m\u001b[0m\u001b[0m\n\u001b[0;32m    116\u001b[0m     \u001b[1;32melse\u001b[0m\u001b[1;33m:\u001b[0m\u001b[1;33m\u001b[0m\u001b[1;33m\u001b[0m\u001b[0m\n",
      "\u001b[1;31mTypeError\u001b[0m: argument must be a string or number"
     ]
    }
   ],
   "source": [
    "testData[\"Outlet_Size\"]= label_encoder.fit_transform(testData[\"Outlet_Size\"])"
   ]
  },
  {
   "cell_type": "code",
   "execution_count": 55,
   "metadata": {},
   "outputs": [
    {
     "data": {
      "text/plain": [
       "Medium    1862\n",
       "Small     1592\n",
       "High       621\n",
       "Name: Outlet_Size, dtype: int64"
      ]
     },
     "execution_count": 55,
     "metadata": {},
     "output_type": "execute_result"
    }
   ],
   "source": [
    "testData[\"Outlet_Size\"].value_counts()"
   ]
  },
  {
   "cell_type": "code",
   "execution_count": 56,
   "metadata": {},
   "outputs": [
    {
     "data": {
      "text/plain": [
       "dtype('O')"
      ]
     },
     "execution_count": 56,
     "metadata": {},
     "output_type": "execute_result"
    }
   ],
   "source": [
    "testData[\"Outlet_Size\"].dtypes"
   ]
  },
  {
   "cell_type": "code",
   "execution_count": 57,
   "metadata": {},
   "outputs": [
    {
     "data": {
      "text/plain": [
       "Item_Identifier                 0\n",
       "Item_Weight                    20\n",
       "Item_Fat_Content                0\n",
       "Item_Visibility                 0\n",
       "Item_Type                       0\n",
       "Item_MRP                        0\n",
       "Outlet_Identifier               0\n",
       "Outlet_Establishment_Year       0\n",
       "Outlet_Size                  1606\n",
       "Outlet_Location_Type            0\n",
       "Outlet_Type                     0\n",
       "Item_Type_Combined              0\n",
       "Outlet_Age                      0\n",
       "dtype: int64"
      ]
     },
     "execution_count": 57,
     "metadata": {},
     "output_type": "execute_result"
    }
   ],
   "source": [
    "testData.isnull().sum()"
   ]
  },
  {
   "cell_type": "code",
   "execution_count": 58,
   "metadata": {},
   "outputs": [],
   "source": [
    "test_data.loc[test_data['Outlet_Type']=='Grocery Store', 'Outlet_Size'] = 'Small'\n",
    "test_data.loc[test_data['Outlet_Type']=='Supermarket Type1', 'Outlet_Size'] = test_data['Outlet_Size'].fillna('Small')\n",
    "test_data.loc[test_data['Outlet_Type']=='Supermarket Type2', 'Outlet_Size'] = test_data['Outlet_Size'].fillna('Medium')"
   ]
  },
  {
   "cell_type": "code",
   "execution_count": 59,
   "metadata": {},
   "outputs": [
    {
     "data": {
      "text/plain": [
       "Item_Identifier               0\n",
       "Item_Weight                  20\n",
       "Item_Fat_Content              0\n",
       "Item_Visibility               0\n",
       "Item_Type                     0\n",
       "Item_MRP                      0\n",
       "Outlet_Identifier             0\n",
       "Outlet_Establishment_Year     0\n",
       "Outlet_Size                   0\n",
       "Outlet_Location_Type          0\n",
       "Outlet_Type                   0\n",
       "dtype: int64"
      ]
     },
     "execution_count": 59,
     "metadata": {},
     "output_type": "execute_result"
    }
   ],
   "source": [
    "test_data.isnull().sum()"
   ]
  },
  {
   "cell_type": "code",
   "execution_count": null,
   "metadata": {},
   "outputs": [],
   "source": []
  }
 ],
 "metadata": {
  "kernelspec": {
   "display_name": "Python 3",
   "language": "python",
   "name": "python3"
  },
  "language_info": {
   "codemirror_mode": {
    "name": "ipython",
    "version": 3
   },
   "file_extension": ".py",
   "mimetype": "text/x-python",
   "name": "python",
   "nbconvert_exporter": "python",
   "pygments_lexer": "ipython3",
   "version": "3.7.3"
  }
 },
 "nbformat": 4,
 "nbformat_minor": 2
}
