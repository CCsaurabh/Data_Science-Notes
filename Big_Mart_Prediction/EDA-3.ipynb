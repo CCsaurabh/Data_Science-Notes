{
 "cells": [
  {
   "cell_type": "code",
   "execution_count": 1,
   "metadata": {},
   "outputs": [],
   "source": [
    "\n",
    "# Importing libraries needed\n",
    "import pandas as pd\n",
    "import numpy as np\n",
    
    "import matplotlib.pyplot as plt"
    
   ]
  },
  {
   "cell_type": "code",
   "execution_count": 2,
   "metadata": {},
   "outputs": [],
   "source": [
    
    "train=pd.read_csv(r\"C:\\Users\\SaurabhM\\Jupyter Project Files\\My Works\\Big Mart Predicition\\train.csv\")\n",
    "\n",
    
    "test=pd.read_csv(r\"C:\\Users\\SaurabhM\\Jupyter Project Files\\My Works\\Big Mart Predicition\\test.csv\")"
   ]
  },
  
  {
   "cell_type": "code",
   "execution_count": 3,
   "metadata": {},
   "outputs": [],
   "source": [
    "train.replace({'reg':'Regular','LF':'Low Fat','low fat':'Low Fat'},inplace = True)\n",
    "test.replace({'reg':'Regular','LF':'Low Fat','low fat':'Low Fat'},inplace = True)"
   ]
  },
  {
   "cell_type": "code",
   "execution_count": 4,
   "metadata": {},
   "outputs": [
    {
     "data": {
      "text/plain": [
       "array(['Supermarket Type1', 'Supermarket Type2', 'Grocery Store',\n",
       "       'Supermarket Type3'], dtype=object)"
      ]
     },
     "execution_count": 4,
     "metadata": {},
     "output_type": "execute_result"
    }
   ],
   "source": [
    "train['Outlet_Type'].unique()"
   ]
  },
  {
   "cell_type": "code",
   "execution_count": 5,
   "metadata": {},
   "outputs": [
    {
     "data": {
      "text/plain": [
       "Item_Identifier                 0\n",
       "Item_Weight                  1463\n",
       "Item_Fat_Content                0\n",
       "Item_Visibility                 0\n",
       "Item_Type                       0\n",
       "Item_MRP                        0\n",
       "Outlet_Identifier               0\n",
       "Outlet_Establishment_Year       0\n",
       "Outlet_Size                  2410\n",
       "Outlet_Location_Type            0\n",
       "Outlet_Type                     0\n",
       "Item_Outlet_Sales               0\n",
       "dtype: int64"
      ]
     },
     "execution_count": 5,
     "metadata": {},
     "output_type": "execute_result"
    }
   ],
   "source": [
    "train.isna().sum()"
   ]
  },
  {
   "cell_type": "code",
   "execution_count": 6,
   "metadata": {},
   "outputs": [
    {
     "name": "stdout",
     "output_type": "stream",
     "text": [
      "     Item_Identifier  Item_Weight Item_Fat_Content  Item_Visibility  \\\n",
      "2007           FDS13        6.465          Low Fat         0.000000   \n",
      "3714           FDS13        6.465          Low Fat         0.124403   \n",
      "4538           FDS13        6.465          Low Fat         0.217994   \n",
      "4802           FDS13        6.465          Low Fat         0.125210   \n",
      "5248           FDS13        6.465          Low Fat         0.124506   \n",
      "5440           FDS13        6.465          Low Fat         0.124759   \n",
      "6670           FDS13        6.465          Low Fat         0.208398   \n",
      "1496           NCJ17        7.680          Low Fat         0.255348   \n",
      "6458           NCJ17        7.680          Low Fat         0.153178   \n",
      "6851           NCJ17        7.680          Low Fat         0.152430   \n",
      "7048           NCJ17        7.680          Low Fat         0.152866   \n",
      "7452           NCJ17        7.680          Low Fat         0.153419   \n",
      "461            FDA13       15.850          Low Fat         0.078999   \n",
      "3479           FDA13       15.850          Low Fat         0.078490   \n",
      "5171           FDA13       15.850          Low Fat         0.078540   \n",
      "5670           FDA13       15.850          Low Fat         0.137540   \n",
      "6386           FDA13       15.850          Low Fat         0.078875   \n",
      "6507           FDA13       15.850          Low Fat         0.078714   \n",
      "7644           FDA13       15.850          Low Fat         0.078175   \n",
      "8227           FDA13       15.850          Low Fat         0.078677   \n",
      "610            FDC11       20.500          Low Fat         0.141106   \n",
      "4125           FDC11       20.500          Low Fat         0.141793   \n",
      "5371           FDC11       20.500          Low Fat         0.142370   \n",
      "5797           FDC11       20.500          Low Fat         0.141675   \n",
      "1181           FDM51       11.800          Regular         0.025967   \n",
      "2865           FDM51       11.800          Regular         0.025979   \n",
      "3794           FDM51       11.800          Regular         0.025905   \n",
      "3971           FDM51       11.800          Regular         0.000000   \n",
      "6790           FDM51       11.800          Regular         0.026073   \n",
      "7587           FDM51       11.800          Regular         0.025921   \n",
      "...              ...          ...              ...              ...   \n",
      "6339           FDC28        7.905          Low Fat         0.055098   \n",
      "7274           FDC28        7.905          Low Fat         0.000000   \n",
      "8450           FDC28        7.905          Low Fat         0.054987   \n",
      "1510           FDL57       15.100          Regular         0.067350   \n",
      "2962           FDL57       15.100          Regular         0.117443   \n",
      "3498           FDL57       15.100          Regular         0.067064   \n",
      "5030           FDL57       15.100          Regular         0.067213   \n",
      "5274           FDL57       15.100          Regular         0.067021   \n",
      "6974           FDL57       15.100          Regular         0.067181   \n",
      "114            FDV11        9.100          Regular         0.000000   \n",
      "3813           FDV11        9.100          Regular         0.136695   \n",
      "3845           FDV11        9.100          Regular         0.081652   \n",
      "4038           FDV11        9.100          Regular         0.081795   \n",
      "1653           FDO60       20.000          Low Fat         0.034564   \n",
      "2897           FDO60       20.000          Low Fat         0.034370   \n",
      "5175           FDO60       20.000          Low Fat         0.034341   \n",
      "6085           FDO60       20.000          Low Fat         0.034363   \n",
      "6266           FDO60       20.000          Low Fat         0.057528   \n",
      "6277           FDO60       20.000          Low Fat         0.000000   \n",
      "7534           FDO60       20.000          Low Fat         0.034203   \n",
      "1983           FDV50       14.300          Low Fat         0.122469   \n",
      "5736           FDV50       14.300          Low Fat         0.123265   \n",
      "7938           FDV50       14.300          Low Fat         0.122571   \n",
      "8306           FDV50       14.300          Low Fat         0.122762   \n",
      "8448           FDV50       14.300          Low Fat         0.123071   \n",
      "976            FDU22       12.350          Low Fat         0.163350   \n",
      "2421           FDU22       12.350          Low Fat         0.093442   \n",
      "2574           FDU22       12.350          Low Fat         0.093279   \n",
      "5238           FDU22       12.350          Low Fat         0.000000   \n",
      "8095           FDU22       12.350          Low Fat         0.093824   \n",
      "\n",
      "               Item_Type  Item_MRP Outlet_Identifier  \\\n",
      "2007              Canned  263.1884            OUT018   \n",
      "3714              Canned  266.1884            OUT013   \n",
      "4538              Canned  266.5884            OUT019   \n",
      "4802              Canned  266.8884            OUT017   \n",
      "5248              Canned  264.7884            OUT046   \n",
      "5440              Canned  264.1884            OUT045   \n",
      "6670              Canned  265.2884            OUT010   \n",
      "1496  Health and Hygiene   84.4224            OUT010   \n",
      "6458  Health and Hygiene   85.2224            OUT018   \n",
      "6851  Health and Hygiene   85.5224            OUT013   \n",
      "7048  Health and Hygiene   84.9224            OUT045   \n",
      "7452  Health and Hygiene   86.4224            OUT017   \n",
      "461               Canned   38.6506            OUT017   \n",
      "3479              Canned   39.9506            OUT013   \n",
      "5171              Canned   36.3506            OUT035   \n",
      "5670              Canned   38.8506            OUT019   \n",
      "6386              Canned   37.4506            OUT018   \n",
      "6507              Canned   37.2506            OUT045   \n",
      "7644              Canned   39.9506            OUT027   \n",
      "8227              Canned   37.8506            OUT049   \n",
      "610        Starchy Foods   87.9172            OUT027   \n",
      "4125       Starchy Foods   89.7172            OUT046   \n",
      "5371       Starchy Foods   90.6172            OUT018   \n",
      "5797       Starchy Foods   90.7172            OUT013   \n",
      "1181                Meat  102.2674            OUT049   \n",
      "2865                Meat  102.5674            OUT045   \n",
      "3794                Meat  102.4674            OUT013   \n",
      "3971                Meat  102.4674            OUT010   \n",
      "6790                Meat   99.8674            OUT017   \n",
      "7587                Meat  101.9674            OUT035   \n",
      "...                  ...       ...               ...   \n",
      "6339        Frozen Foods  109.2254            OUT045   \n",
      "7274        Frozen Foods  109.1254            OUT017   \n",
      "8450        Frozen Foods  108.6254            OUT046   \n",
      "1510         Snack Foods  257.3304            OUT018   \n",
      "2962         Snack Foods  257.7304            OUT019   \n",
      "3498         Snack Foods  257.9304            OUT035   \n",
      "5030         Snack Foods  260.2304            OUT045   \n",
      "5274         Snack Foods  260.3304            OUT013   \n",
      "6974         Snack Foods  258.8304            OUT049   \n",
      "114               Breads  173.2054            OUT045   \n",
      "3813              Breads  173.4054            OUT010   \n",
      "3845              Breads  177.0054            OUT035   \n",
      "4038              Breads  173.6054            OUT049   \n",
      "1653        Baking Goods   45.3086            OUT017   \n",
      "2897        Baking Goods   43.7086            OUT046   \n",
      "5175        Baking Goods   45.4086            OUT013   \n",
      "6085        Baking Goods   43.5086            OUT035   \n",
      "6266        Baking Goods   43.1086            OUT010   \n",
      "6277        Baking Goods   43.4086            OUT018   \n",
      "7534        Baking Goods   43.3086            OUT027   \n",
      "1983               Dairy  121.9730            OUT013   \n",
      "5736               Dairy  123.2730            OUT017   \n",
      "7938               Dairy  122.3730            OUT046   \n",
      "8306               Dairy  124.3730            OUT049   \n",
      "8448               Dairy  121.1730            OUT018   \n",
      "976          Snack Foods  120.2124            OUT019   \n",
      "2421         Snack Foods  119.1124            OUT049   \n",
      "2574         Snack Foods  118.7124            OUT035   \n",
      "5238         Snack Foods  118.9124            OUT013   \n",
      "8095         Snack Foods  119.9124            OUT017   \n",
      "\n",
      "      Outlet_Establishment_Year Outlet_Size Outlet_Location_Type  \\\n",
      "2007                       2009      Medium               Tier 3   \n",
      "3714                       1987        High               Tier 3   \n",
      "4538                       1985       Small               Tier 1   \n",
      "4802                       2007         NaN               Tier 2   \n",
      "5248                       1997       Small               Tier 1   \n",
      "5440                       2002         NaN               Tier 2   \n",
      "6670                       1998         NaN               Tier 3   \n",
      "1496                       1998         NaN               Tier 3   \n",
      "6458                       2009      Medium               Tier 3   \n",
      "6851                       1987        High               Tier 3   \n",
      "7048                       2002         NaN               Tier 2   \n",
      "7452                       2007         NaN               Tier 2   \n",
      "461                        2007         NaN               Tier 2   \n",
      "3479                       1987        High               Tier 3   \n",
      "5171                       2004       Small               Tier 2   \n",
      "5670                       1985       Small               Tier 1   \n",
      "6386                       2009      Medium               Tier 3   \n",
      "6507                       2002         NaN               Tier 2   \n",
      "7644                       1985      Medium               Tier 3   \n",
      "8227                       1999      Medium               Tier 1   \n",
      "610                        1985      Medium               Tier 3   \n",
      "4125                       1997       Small               Tier 1   \n",
      "5371                       2009      Medium               Tier 3   \n",
      "5797                       1987        High               Tier 3   \n",
      "1181                       1999      Medium               Tier 1   \n",
      "2865                       2002         NaN               Tier 2   \n",
      "3794                       1987        High               Tier 3   \n",
      "3971                       1998         NaN               Tier 3   \n",
      "6790                       2007         NaN               Tier 2   \n",
      "7587                       2004       Small               Tier 2   \n",
      "...                         ...         ...                  ...   \n",
      
      "6339                       2002         NaN               Tier 2   \n",
      "7274                       2007         NaN               Tier 2   \n",
      "8450                       1997       Small               Tier 1   \n",
      "1510                       2009      Medium               Tier 3   \n",
      "2962                       1985       Small               Tier 1   \n",
      "3498                       2004       Small               Tier 2   \n",
      "5030                       2002         NaN               Tier 2   \n",
      "5274                       1987        High               Tier 3   \n",
      "6974                       1999      Medium               Tier 1   \n",
      "114                        2002         NaN               Tier 2   \n",
      "3813                       1998         NaN               Tier 3   \n",
      "3845                       2004       Small               Tier 2   \n",
      "4038                       1999      Medium               Tier 1   \n",
      "1653                       2007         NaN               Tier 2   \n",
      "2897                       1997       Small               Tier 1   \n",
      "5175                       1987        High               Tier 3   \n",
      "6085                       2004       Small               Tier 2   \n",
      "6266                       1998         NaN               Tier 3   \n",
      "6277                       2009      Medium               Tier 3   \n",
      "7534                       1985      Medium               Tier 3   \n",
      "1983                       1987        High               Tier 3   \n",
      "5736                       2007         NaN               Tier 2   \n",
      "7938                       1997       Small               Tier 1   \n",
      "8306                       1999      Medium               Tier 1   \n",
      "8448                       2009      Medium               Tier 3   \n",
      "976                        1985       Small               Tier 1   \n",
      "2421                       1999      Medium               Tier 1   \n",
      "2574                       2004       Small               Tier 2   \n",
      "5238                       1987        High               Tier 3   \n",
      "8095                       2007         NaN               Tier 2   \n",
      "\n",
      "            Outlet_Type  Item_Outlet_Sales  \n",
      "2007  Supermarket Type2          2914.8724  \n",
      "3714  Supermarket Type1          5299.7680  \n",
      "4538      Grocery Store          1324.9420  \n",
      "4802  Supermarket Type1          1059.9536  \n",
      "5248  Supermarket Type1          3709.8376  \n",
      "5440  Supermarket Type1          3444.8492  \n",
      "6670      Grocery Store           264.9884  \n",
      "1496      Grocery Store           170.4448  \n",
      "6458  Supermarket Type2          1278.3360  \n",
      "6851  Supermarket Type1          1278.3360  \n",
      "7048  Supermarket Type1          1619.2256  \n",
      "7452  Supermarket Type1           511.3344  \n",
      "461   Supermarket Type1           759.0120  \n",
      "3479  Supermarket Type1           645.1602  \n",
      "5171  Supermarket Type1           607.2096  \n",
      "5670      Grocery Store            37.9506  \n",
      "6386  Supermarket Type2           303.6048  \n",
      "6507  Supermarket Type1           493.3578  \n",
      "7644  Supermarket Type3           721.0614  \n",
      "8227  Supermarket Type1           341.5554  \n",
      "610   Supermarket Type3          3836.3396  \n",
      "4125  Supermarket Type1          1159.8236  \n",
      "5371  Supermarket Type2          1427.4752  \n",
      "5797  Supermarket Type1          1605.9096  \n",
      "1181  Supermarket Type1          2444.8176  \n",
      "2865  Supermarket Type1          1629.8784  \n",
      "3794  Supermarket Type1          2037.3480  \n",
      "3971      Grocery Store           203.7348  \n",
      "6790  Supermarket Type1          1018.6740  \n",
      "7587  Supermarket Type1          1731.7458  \n",
      "...                 ...                ...  \n",
      "6339  Supermarket Type1           976.7286  \n",
      "7274  Supermarket Type1          1627.8810  \n",
      "8450  Supermarket Type1          1844.9318  \n",
      "1510  Supermarket Type2          3874.9560  \n",
      "2962      Grocery Store           774.9912  \n",
      "3498  Supermarket Type1          6458.2600  \n",
      "5030  Supermarket Type1          4908.2776  \n",
      "5274  Supermarket Type1          5424.9384  \n",
      "6974  Supermarket Type1          5424.9384  \n",
      "114   Supermarket Type1          3151.8972  \n",
      "3813      Grocery Store           875.5270  \n",
      "3845  Supermarket Type1          2101.2648  \n",
      "4038  Supermarket Type1           700.4216  \n",
      "1653  Supermarket Type1           490.6946  \n",
      "2897  Supermarket Type1           892.1720  \n",
      "5175  Supermarket Type1           981.3892  \n",
      "6085  Supermarket Type1           401.4774  \n",
      "6266      Grocery Store            89.2172  \n",
      "6277  Supermarket Type2           401.4774  \n",
      "7534  Supermarket Type3           624.5204  \n",
      "1983  Supermarket Type1          2709.8060  \n",
      "5736  Supermarket Type1          1108.5570  \n",
      "7938  Supermarket Type1           985.3840  \n",
      "8306  Supermarket Type1          2093.9410  \n",
      "8448  Supermarket Type2          2093.9410  \n",
      "976       Grocery Store           474.0496  \n",
      "2421  Supermarket Type1          3673.8844  \n",
      "2574  Supermarket Type1          2607.2728  \n",
      "5238  Supermarket Type1          3199.8348  \n",
      "8095  Supermarket Type1          2014.7108  \n",
      "\n",
      "[8523 rows x 12 columns]\n"
     ]
    }
   ],
   "source": [
    "train_data = pd.DataFrame()\n",
    "for item in list(set(train['Item_Identifier'])):\n",
    "  temp = train.loc[train['Item_Identifier']==item].copy()\n",
    "\n",
    "  temp['Item_Weight'].fillna(temp['Item_Weight'].mean(),inplace = True)\n",
    "  train_data = train_data.append(temp)\n",
    "print(train_data)"
   ]
  },
  {
   "cell_type": "code",
   "execution_count": 7,
   "metadata": {},
   "outputs": [
    {
     "name": "stdout",
     "output_type": "stream",
     "text": [
      "     Item_Identifier  Item_Weight Item_Fat_Content  Item_Visibility  \\\n",
      "2784           FDS13        6.465          Low Fat         0.124483   \n",
      "4910           FDS13        6.465          Low Fat         0.124700   \n",
      "5348           FDS13        6.465          Low Fat         0.123903   \n",
      "2625           NCJ17        7.680          Low Fat         0.267107   \n",
      "2681           NCJ17        7.680          Low Fat         0.152528   \n",
      "4552           NCJ17        7.680          Low Fat         0.151818   \n",
      "5093           NCJ17        7.680          Low Fat         0.152556   \n",
      "5621           NCJ17        7.680          Low Fat         0.152794   \n",
      "2455           FDA13       15.850          Low Fat         0.131485   \n",
      "3772           FDA13       15.850          Low Fat         0.078555   \n",
      "216            FDM51       11.800          Regular         0.045393   \n",
      "574            FDM51       11.800          Regular         0.025801   \n",
      "1520           FDM51       11.800          Regular         0.025926   \n",
      "1764           FDM51       11.800          Regular         0.026032   \n",
      "225            FDC11       20.500          Low Fat         0.141766   \n",
      "4162           FDC11       20.500          Low Fat         0.142080   \n",
      "4338           FDC11       20.500          Low Fat         0.142013   \n",
      "4531           FDC11       20.500          Low Fat         0.142595   \n",
      "1065           NCE18       10.000          Low Fat         0.021322   \n",
      "2567           NCE18       10.000          Low Fat         0.021547   \n",
      "2886           NCE18       10.000          Low Fat         0.000000   \n",
      "300            NCI30       20.250          Low Fat         0.098646   \n",
      "1275           NCI30       20.250          Low Fat         0.058650   \n",
      "4039           NCI30       20.250          Low Fat         0.059027   \n",
      "4527           NCI30       20.250          Low Fat         0.058924   \n",
      "3909           FDT21          NaN          Low Fat         0.035703   \n",
      "1836           FDB20        7.720          Low Fat         0.091011   \n",
      "2194           FDB20        7.720          Low Fat         0.052192   \n",
      "2599           FDB20        7.720          Low Fat         0.051729   \n",
      "2979           FDB20        7.720          Low Fat         0.087005   \n",
      "...              ...          ...              ...              ...   \n",
      "1029           FDU48       18.850          Low Fat         0.055090   \n",
      "2604           FDU48       18.850          Low Fat         0.055358   \n",
      "2931           FDU48       18.850          Low Fat         0.055312   \n",
      "4446           FDU48       18.850          Low Fat         0.096926   \n",
      "5408           FDU48       18.850          Low Fat         0.055445   \n",
      "4047           FDQ09        7.235          Low Fat         0.058132   \n",
      "4928           FDQ09        7.235          Low Fat         0.101782   \n",
      "5153           FDQ09        7.235          Low Fat         0.058461   \n",
      "506            FDC28        7.905          Low Fat         0.092037   \n",
      "680            FDC28        7.905          Low Fat         0.055072   \n",
      "1942           FDC28        7.905          Low Fat         0.055211   \n",
      "3084           FDC28        7.905          Low Fat         0.054977   \n",
      "4603           FDC28        7.905          Low Fat         0.054941   \n",
      "374            FDL57       15.100          Regular         0.067456   \n",
      "2183           FDL57       15.100          Regular         0.067077   \n",
      "2649           FDL57       15.100          Regular         0.066752   \n",
      "777            FDV11        9.100          Regular         0.082130   \n",
      "2086           FDV11        9.100          Regular         0.082000   \n",
      "3150           FDV11        9.100          Regular         0.081600   \n",
      "5454           FDV11        9.100          Regular         0.081272   \n",
      "2390           FDO60       20.000          Low Fat         0.034423   \n",
      "3465           FDO60       20.000          Low Fat         0.034439   \n",
      "1694           FDV50       14.300          Low Fat         0.122548   \n",
      "3330           FDV50       14.300          Low Fat         0.121978   \n",
      "4545           FDV50       14.300          Low Fat         0.000000   \n",
      "5138           FDV50       14.300          Low Fat         0.122820   \n",
      "622            FDU22       12.350          Low Fat         0.093486   \n",
      "4742           FDU22       12.350          Low Fat         0.093677   \n",
      "4777           FDU22       12.350          Low Fat         0.093297   \n",
      "5593           FDU22       12.350          Low Fat         0.092845   \n",
      "\n",
      "                  Item_Type  Item_MRP Outlet_Identifier  \\\n",
      "2784                 Canned  263.5884            OUT035   \n",
      "4910                 Canned  266.0884            OUT049   \n",
      "5348                 Canned  263.0884            OUT027   \n",
      "2625     Health and Hygiene   85.4224            OUT019   \n",
      "2681     Health and Hygiene   85.2224            OUT035   \n",
      "4552     Health and Hygiene   86.0224            OUT027   \n",
      "5093     Health and Hygiene   85.1224            OUT046   \n",
      "5621     Health and Hygiene   86.2224            OUT049   \n",
      "2455                 Canned   35.9506            OUT010   \n",
      "3772                 Canned   38.7506            OUT046   \n",
      "216                    Meat  102.2674            OUT019   \n",
      "574                    Meat  101.6674            OUT027   \n",
      "1520                   Meat   99.9674            OUT046   \n",
      "1764                   Meat  101.2674            OUT018   \n",
      "225           Starchy Foods   87.4172            OUT035   \n",
      "4162          Starchy Foods   89.5172            OUT045   \n",
      "4338          Starchy Foods   88.2172            OUT049   \n",
      "4531          Starchy Foods   87.7172            OUT017   \n",
      "1065              Household  251.3750            OUT027   \n",
      "2567              Household  249.1750            OUT017   \n",
      "2886              Household  248.6750            OUT049   \n",
      "300               Household  244.7460            OUT010   \n",
      "1275              Household  247.8460            OUT027   \n",
      "4039              Household  248.0460            OUT049   \n",
      "4527              Household  245.0460            OUT035   \n",
      "3909            Snack Foods  248.0092            OUT019   \n",
      "1836  Fruits and Vegetables   77.0986            OUT019   \n",
      "2194  Fruits and Vegetables   78.7986            OUT018   \n",
      "2599  Fruits and Vegetables   77.9986            OUT027   \n",
      "2979  Fruits and Vegetables   75.8986            OUT010   \n",
      "...                     ...       ...               ...   \n",
      "1029           Baking Goods  130.7284            OUT027   \n",
      "2604           Baking Goods  132.7284            OUT046   \n",
      "2931           Baking Goods  131.4284            OUT013   \n",
      "4446           Baking Goods  131.3284            OUT019   \n",
      "5408           Baking Goods  130.6284            OUT049   \n",
      "4047            Snack Foods  114.0834            OUT046   \n",
      "4928            Snack Foods  113.6834            OUT019   \n",
      "5153            Snack Foods  114.2834            OUT017   \n",
      "506            Frozen Foods  110.5254            OUT010   \n",
      "680            Frozen Foods  109.1254            OUT049   \n",
      "1942           Frozen Foods  108.0254            OUT018   \n",
      "3084           Frozen Foods  109.7254            OUT035   \n",
      "4603           Frozen Foods  110.4254            OUT013   \n",
      "374             Snack Foods  257.5304            OUT017   \n",
      "2183            Snack Foods  260.0304            OUT046   \n",
      "2649            Snack Foods  257.4304            OUT027   \n",
      "777                  Breads  176.9054            OUT017   \n",
      "2086                 Breads  173.9054            OUT018   \n",
      "3150                 Breads  176.8054            OUT013   \n",
      "5454                 Breads  176.3054            OUT027   \n",
      "2390           Baking Goods   44.4086            OUT049   \n",
      "3465           Baking Goods   45.1086            OUT045   \n",
      "1694                  Dairy  122.1730            OUT035   \n",
      "3330                  Dairy  122.5730            OUT027   \n",
      "4545                  Dairy  124.1730            OUT010   \n",
      "5138                  Dairy  122.4730            OUT045   \n",
      "622             Snack Foods  119.6124            OUT045   \n",
      "4742            Snack Foods  119.4124            OUT018   \n",
      "4777            Snack Foods  120.0124            OUT046   \n",
      "5593            Snack Foods  116.8124            OUT027   \n",
      "\n",
      "      Outlet_Establishment_Year Outlet_Size Outlet_Location_Type  \\\n",
      "2784                       2004       Small               Tier 2   \n",
      "4910                       1999      Medium               Tier 1   \n",
      "5348                       1985      Medium               Tier 3   \n",
      "2625                       1985       Small               Tier 1   \n",
      "2681                       2004       Small               Tier 2   \n",
      "4552                       1985      Medium               Tier 3   \n",
      "5093                       1997       Small               Tier 1   \n",
      "5621                       1999      Medium               Tier 1   \n",
      "2455                       1998         NaN               Tier 3   \n",
      "3772                       1997       Small               Tier 1   \n",
      "216                        1985       Small               Tier 1   \n",
      "574                        1985      Medium               Tier 3   \n",
      "1520                       1997       Small               Tier 1   \n",
      "1764                       2009      Medium               Tier 3   \n",
      "225                        2004       Small               Tier 2   \n",
      "4162                       2002         NaN               Tier 2   \n",
      "4338                       1999      Medium               Tier 1   \n",
      "4531                       2007         NaN               Tier 2   \n",
      "1065                       1985      Medium               Tier 3   \n",
      "2567                       2007         NaN               Tier 2   \n",
      "2886                       1999      Medium               Tier 1   \n",
      "300                        1998         NaN               Tier 3   \n",
      "1275                       1985      Medium               Tier 3   \n",
      "4039                       1999      Medium               Tier 1   \n",
      "4527                       2004       Small               Tier 2   \n",
      "3909                       1985       Small               Tier 1   \n",
      "1836                       1985       Small               Tier 1   \n",
      "2194                       2009      Medium               Tier 3   \n",
      "2599                       1985      Medium               Tier 3   \n",
      "2979                       1998         NaN               Tier 3   \n",
      "...                         ...         ...                  ...   \n",
      "1029                       1985      Medium               Tier 3   \n",
      "2604                       1997       Small               Tier 1   \n",
      "2931                       1987        High               Tier 3   \n",
      "4446                       1985       Small               Tier 1   \n",
      "5408                       1999      Medium               Tier 1   \n",
      "4047                       1997       Small               Tier 1   \n",
      "4928                       1985       Small               Tier 1   \n",
      "5153                       2007         NaN               Tier 2   \n",
      "506                        1998         NaN               Tier 3   \n",
      "680                        1999      Medium               Tier 1   \n",
      "1942                       2009      Medium               Tier 3   \n",
      "3084                       2004       Small               Tier 2   \n",
      "4603                       1987        High               Tier 3   \n",
      "374                        2007         NaN               Tier 2   \n",
      "2183                       1997       Small               Tier 1   \n",
      "2649                       1985      Medium               Tier 3   \n",
      "777                        2007         NaN               Tier 2   \n",
      "2086                       2009      Medium               Tier 3   \n",
      "3150                       1987        High               Tier 3   \n",
      "5454                       1985      Medium               Tier 3   \n",
      "2390                       1999      Medium               Tier 1   \n",
      "3465                       2002         NaN               Tier 2   \n",
      "1694                       2004       Small               Tier 2   \n",
      "3330                       1985      Medium               Tier 3   \n",
      "4545                       1998         NaN               Tier 3   \n",
      "5138                       2002         NaN               Tier 2   \n",
      "622                        2002         NaN               Tier 2   \n",
      "4742                       2009      Medium               Tier 3   \n",
      "4777                       1997       Small               Tier 1   \n",
      "5593                       1985      Medium               Tier 3   \n",
      "\n",
      "            Outlet_Type  \n",
      "2784  Supermarket Type1  \n",
      "4910  Supermarket Type1  \n",
      "5348  Supermarket Type3  \n",
      "2625      Grocery Store  \n",
      "2681  Supermarket Type1  \n",
      "4552  Supermarket Type3  \n",
      "5093  Supermarket Type1  \n",
      "5621  Supermarket Type1  \n",
      "2455      Grocery Store  \n",
      "3772  Supermarket Type1  \n",
      "216       Grocery Store  \n",
      "574   Supermarket Type3  \n",
      "1520  Supermarket Type1  \n",
      "1764  Supermarket Type2  \n",
      "225   Supermarket Type1  \n",
      "4162  Supermarket Type1  \n",
      "4338  Supermarket Type1  \n",
      "4531  Supermarket Type1  \n",
      "1065  Supermarket Type3  \n",
      "2567  Supermarket Type1  \n",
      "2886  Supermarket Type1  \n",
      "300       Grocery Store  \n",
      "1275  Supermarket Type3  \n",
      "4039  Supermarket Type1  \n",
      "4527  Supermarket Type1  \n",
      "3909      Grocery Store  \n",
      "1836      Grocery Store  \n",
      "2194  Supermarket Type2  \n",
      "2599  Supermarket Type3  \n",
      "2979      Grocery Store  \n",
      "...                 ...  \n",
      "1029  Supermarket Type3  \n",
      "2604  Supermarket Type1  \n",
      "2931  Supermarket Type1  \n",
      "4446      Grocery Store  \n",
      "5408  Supermarket Type1  \n",
      "4047  Supermarket Type1  \n",
      "4928      Grocery Store  \n",
      "5153  Supermarket Type1  \n",
      "506       Grocery Store  \n",
      "680   Supermarket Type1  \n",
      "1942  Supermarket Type2  \n",
      "3084  Supermarket Type1  \n",
      "4603  Supermarket Type1  \n",
      "374   Supermarket Type1  \n",
      "2183  Supermarket Type1  \n",
      "2649  Supermarket Type3  \n",
      "777   Supermarket Type1  \n",
      "2086  Supermarket Type2  \n",
      "3150  Supermarket Type1  \n",
      "5454  Supermarket Type3  \n",
      "2390  Supermarket Type1  \n",
      "3465  Supermarket Type1  \n",
      "1694  Supermarket Type1  \n",
      "3330  Supermarket Type3  \n",
      "4545      Grocery Store  \n",
      "5138  Supermarket Type1  \n",
      "622   Supermarket Type1  \n",
      "4742  Supermarket Type2  \n",
      "4777  Supermarket Type1  \n",
      "5593  Supermarket Type3  \n",
      "\n",
      "[5681 rows x 11 columns]\n"
     ]
    }
   ],
   "source": [
    "test_data = pd.DataFrame()\n",
    "for item in list(set(test['Item_Identifier'])):\n",
    "  temp = test.loc[test['Item_Identifier']==item].copy()\n",
    "\n",
    "  temp['Item_Weight'].fillna(temp['Item_Weight'].mean(),inplace = True)\n",
    "  test_data = test_data.append(temp)\n",
    "print(test_data)"
   ]
  },
  {
   "cell_type": "code",
   "execution_count": 8,
   "metadata": {},
   "outputs": [
    {
     "data": {
      "text/plain": [
       "Item_Identifier                 0\n",
       "Item_Weight                     4\n",
       "Item_Fat_Content                0\n",
       "Item_Visibility                 0\n",
       "Item_Type                       0\n",
       "Item_MRP                        0\n",
       "Outlet_Identifier               0\n",
       "Outlet_Establishment_Year       0\n",
       "Outlet_Size                  2410\n",
       "Outlet_Location_Type            0\n",
       "Outlet_Type                     0\n",
       "Item_Outlet_Sales               0\n",
       "dtype: int64"
      ]
     },
     "execution_count": 8,
     "metadata": {},
     "output_type": "execute_result"
    }
   ],
   "source": [
    "\n",
    "train_data.isna().sum()"
   ]
  },
  {
   "cell_type": "code",
   "execution_count": 9,
   "metadata": {},
   "outputs": [
    {
     "data": {
      "text/plain": [
       "Item_Identifier                 0\n",
       "Item_Weight                    20\n",
       "Item_Fat_Content                0\n",
       "Item_Visibility                 0\n",
       "Item_Type                       0\n",
       "Item_MRP                        0\n",
       "Outlet_Identifier               0\n",
       "Outlet_Establishment_Year       0\n",
       "Outlet_Size                  1606\n",
       "Outlet_Location_Type            0\n",
       "Outlet_Type                     0\n",
       "dtype: int64"
      ]
     },
     "execution_count": 9,
     "metadata": {},
     "output_type": "execute_result"
    }
   ],
   "source": [
    "test_data.isna().sum()"
   ]
  },
  {
   "cell_type": "code",
   "execution_count": 10,
   "metadata": {},
   "outputs": [
    {
     "data": {
      "text/plain": [
       "['FDQ60', 'FDN52', 'FDK57', 'FDE52']"
      ]
     },
     "execution_count": 10,
     "metadata": {},
     "output_type": "execute_result"
    }
   ],
   "source": [
    "products = list(train_data[train_data['Item_Weight'].isnull()]['Item_Identifier'])\n",
    "products"
   ]
  },
  {
   "cell_type": "code",
   "execution_count": 11,
   "metadata": {},
   "outputs": [
    {
     "data": {
      "text/plain": [
       "20"
      ]
     },
     "execution_count": 11,
     "metadata": {},
     "output_type": "execute_result"
    }
   ],
   "source": [
    "\n",
    "test_products = list(test_data[test_data['Item_Weight'].isnull()]['Item_Identifier'])\n",
    "len(test_products)"
   ]
  },
  {
   "cell_type": "code",
   "execution_count": 12,
   "metadata": {},
   "outputs": [],
   "source": [
    "\n",
    "product_price_test = []\n",
    "for item in test_products:\n",
    "  product_price_test.append(train[train['Item_Identifier'] == item].iloc[0]['Item_Weight'])\n",
    "dictionary1 = dict(zip(test_products, product_price_test))"
   ]
  },
  {
   "cell_type": "code",
   "execution_count": 13,
   "metadata": {},
   "outputs": [],
   "source": [
    "product_price = []\n",
    "for item in products:\n",
    "  product_price.append(test[test['Item_Identifier'] == item].iloc[0]['Item_Weight'])\n",
    "dictionary2 = dict(zip(products, product_price))"
   ]
  },
  {
   "cell_type": "code",
   "execution_count": 14,
   "metadata": {},
   "outputs": [],
   "source": [
    "train_data.loc[train_data['Item_Weight'].isnull(),'Item_Weight'] = train_data['Item_Identifier'].map(dictionary2)"
   ]
  },
  {
   "cell_type": "code",
   "execution_count": 15,
   "metadata": {},
   "outputs": [],
   "source": [
    "test_data.loc[test_data['Item_Weight'].isnull(),'Item_Weight'] = test_data['Item_Identifier'].map(dictionary1)"
   ]
  },
  {
   "cell_type": "code",
   "execution_count": 16,
   "metadata": {},
   "outputs": [
    {
     "data": {
      "text/plain": [
       "Item_Identifier                 0\n",
       "Item_Weight                     0\n",
       "Item_Fat_Content                0\n",
       "Item_Visibility                 0\n",
       "Item_Type                       0\n",
       "Item_MRP                        0\n",
       "Outlet_Identifier               0\n",
       "Outlet_Establishment_Year       0\n",
       "Outlet_Size                  2410\n",
       "Outlet_Location_Type            0\n",
       "Outlet_Type                     0\n",
       "Item_Outlet_Sales               0\n",
       "dtype: int64"
      ]
     },
     "execution_count": 16,
     "metadata": {},
     "output_type": "execute_result"
    }
   ],
   "source": [
    "train_data.isna().sum()\n"
   ]
  },
  {
   "cell_type": "code",
   "execution_count": 17,
   "metadata": {},
   "outputs": [
    {
     "data": {
      "text/plain": [
       "Item_Identifier                 0\n",
       "Item_Weight                     0\n",
       "Item_Fat_Content                0\n",
       "Item_Visibility                 0\n",
       "Item_Type                       0\n",
       "Item_MRP                        0\n",
       "Outlet_Identifier               0\n",
       "Outlet_Establishment_Year       0\n",
       "Outlet_Size                  1606\n",
       "Outlet_Location_Type            0\n",
       "Outlet_Type                     0\n",
       "dtype: int64"
      ]
     },
     "execution_count": 17,
     "metadata": {},
     "output_type": "execute_result"
    }
   ],
   "source": [
    "test_data.isna().sum()"
   ]
  },
  {
   "cell_type": "code",
   "execution_count": 18,
   "metadata": {},
   "outputs": [],
   "source": [
    "train_data.loc[train_data['Outlet_Type']=='Grocery Store', 'Outlet_Size'] = 'Small'"
   ]
  },
  {
   "cell_type": "code",
   "execution_count": 19,
   "metadata": {},
   "outputs": [],
   "source": [
    "\n",
    "train_data.loc[train_data['Outlet_Type']=='Supermarket Type1', 'Outlet_Size'] = train_data['Outlet_Size'].fillna('Small')\n",
    "train_data.loc[train_data['Outlet_Type']=='Supermarket Type2', 'Outlet_Size'] = train_data['Outlet_Size'].fillna('Medium')"
   ]
  },
  {
   "cell_type": "code",
   "execution_count": 20,
   "metadata": {},
   "outputs": [
    {
     "data": {
      "text/plain": [
       "Item_Identifier              0\n",
       "Item_Weight                  0\n",
       "Item_Fat_Content             0\n",
       "Item_Visibility              0\n",
       "Item_Type                    0\n",
       "Item_MRP                     0\n",
       "Outlet_Identifier            0\n",
       "Outlet_Establishment_Year    0\n",
       "Outlet_Size                  0\n",
       "Outlet_Location_Type         0\n",
       "Outlet_Type                  0\n",
       "Item_Outlet_Sales            0\n",
       "dtype: int64"
      ]
     },
     "execution_count": 20,
     "metadata": {},
     "output_type": "execute_result"
    }
   ],
   "source": [
    "train_data.isna().sum()"
   ]
  },
  {
   "cell_type": "code",
   "execution_count": 21,
   "metadata": {},
   "outputs": [],
   "source": [
    "\n",
    "test_data.loc[test_data['Outlet_Type']=='Grocery Store', 'Outlet_Size'] = 'Small'\n",
    "test_data.loc[test_data['Outlet_Type']=='Supermarket Type1', 'Outlet_Size'] = test_data['Outlet_Size'].fillna('Small')\n",
    "test_data.loc[test_data['Outlet_Type']=='Supermarket Type2', 'Outlet_Size'] = test_data['Outlet_Size'].fillna('Medium')"
   ]
  },
  {
   "cell_type": "code",
   "execution_count": 22,
   "metadata": {},
   "outputs": [
    {
     "data": {
      "text/plain": [
       "Item_Identifier              0\n",
       "Item_Weight                  0\n",
       "Item_Fat_Content             0\n",
       "Item_Visibility              0\n",
       "Item_Type                    0\n",
       "Item_MRP                     0\n",
       "Outlet_Identifier            0\n",
       "Outlet_Establishment_Year    0\n",
       "Outlet_Size                  0\n",
       "Outlet_Location_Type         0\n",
       "Outlet_Type                  0\n",
       "dtype: int64"
      ]
     },
     "execution_count": 22,
     "metadata": {},
     "output_type": "execute_result"
    }
   ],
   "source": [
    "#train_data.to_csv('trainData.csv')\n",
    "test_data.isnull().sum()"
   ]
  },
  {
   "cell_type": "code",
   "execution_count": 23,
   "metadata": {},
   "outputs": [
    {
     "data": {
      "text/plain": [
       "\"train_data = pd.DataFrame()\\nfor item in list(set(train['Item_Identifier'])):\\n  temp = train.loc[train['Item_Identifier']==item].copy()\\n  temp['Item_Visibility'] = temp['Item_Visibility'].replace(to_replace = 0, value = temp['Item_Visibility'].mean())\\n  train_data = train_data.append(temp,ignore_index=False)\\n#print(train_data)\""
      ]
     },
     "execution_count": 23,
     "metadata": {},
     "output_type": "execute_result"
    }
   ],
   "source": [
    "\"\"\"train_data = pd.DataFrame()\n",
    "for item in list(set(train['Item_Identifier'])):\n",
    "  temp = train.loc[train['Item_Identifier']==item].copy()\n",
    "  temp['Item_Visibility'] = temp['Item_Visibility'].replace(to_replace = 0, value = temp['Item_Visibility'].mean())\n",
    "  train_data = train_data.append(temp,ignore_index=False)\n",
    "#print(train_data)\"\"\""
   ]
  },
  {
   "cell_type": "code",
   "execution_count": 24,
   "metadata": {},
   "outputs": [
    {
     "data": {
      "text/plain": [
       "\"testData = pd.DataFrame()\\nfor item in list(set(test['Item_Identifier'])):\\n  temp = test_data.loc[test_data['Item_Identifier']==item].copy()\\n  temp['Item_Visibility'] = temp['Item_Visibility'].replace(to_replace = 0, value = temp['Item_Visibility'].mean())\\n  testData = testData.append(temp,ignore_index=False)\""
      ]
     },
     "execution_count": 24,
     "metadata": {},
     "output_type": "execute_result"
    }
   ],
   "source": [
    "\"\"\"testData = pd.DataFrame()\n",
    "for item in list(set(test['Item_Identifier'])):\n",
    "  temp = test_data.loc[test_data['Item_Identifier']==item].copy()\n",
    "  temp['Item_Visibility'] = temp['Item_Visibility'].replace(to_replace = 0, value = temp['Item_Visibility'].mean())\n",
    "  testData = testData.append(temp,ignore_index=False)\"\"\""
   ]
  },
  {
   "cell_type": "code",
   "execution_count": 25,
   "metadata": {},
   "outputs": [
    {
     "data": {
      "text/plain": [
       "Food              6125\n",
       "Non-Consumable    1599\n",
       "Drinks             799\n",
       "Name: Item_Type_Combined, dtype: int64"
      ]
     },
     "execution_count": 25,
     "metadata": {},
     "output_type": "execute_result"
    }
   ],
   "source": [
    "\n",
    "train_data['Item_Type_Combined'] = train_data['Item_Identifier'].apply(lambda x: x[0:2])\n",
    "#Rename them to more intuitive categories:\n",
    "train_data['Item_Type_Combined'] = train_data['Item_Type_Combined'].map({'FD':'Food',\n",
    "                                                             'NC':'Non-Consumable',\n",
    "                                                             'DR':'Drinks'})\n",
    "train_data['Item_Type_Combined'].value_counts()"
   ]
  },
  {
   "cell_type": "code",
   "execution_count": 26,
   "metadata": {},
   "outputs": [
    {
     "data": {
      "text/plain": [
       "Food              4076\n",
       "Non-Consumable    1087\n",
       "Drinks             518\n",
       "Name: Item_Type_Combined, dtype: int64"
      ]
     },
     "execution_count": 26,
     "metadata": {},
     "output_type": "execute_result"
    }
   ],
   "source": [
    "#Get the first two characters of ID:\n",
    "test_data['Item_Type_Combined'] = test_data['Item_Identifier'].apply(lambda x: x[0:2])\n",
    "#Rename them to more intuitive categories:\n",
    "test_data['Item_Type_Combined'] = test_data['Item_Type_Combined'].map({'FD':'Food',\n",
    "                                                             'NC':'Non-Consumable',\n",
    "                                                             'DR':'Drinks'})\n",
    "test_data['Item_Type_Combined'].value_counts()"
   ]
  },
  {
   "cell_type": "code",
   "execution_count": 27,
   "metadata": {},
   "outputs": [],
   "source": [
    "train_data['Outlet_Age'] = 2013 - train_data['Outlet_Establishment_Year']\n",
    "test_data['Outlet_Age'] = 2013 - test_data['Outlet_Establishment_Year']"
   ]
  },
  {
   "cell_type": "code",
   "execution_count": 28,
   "metadata": {},
   "outputs": [],
   "source": [
    "categorical_columns = list(train_data.columns[train_data.dtypes == 'object'])\n",
    "usefull = ['Item_Identifier','Outlet_Identifier']\n",
    "for i in usefull:\n",
    "    categorical_columns.remove(i)"
   ]
  },
  {
   "cell_type": "code",
   "execution_count": 29,
   "metadata": {},
   "outputs": [],
   "source": [
    "\n",
    "from sklearn import preprocessing \n",
    "  \n",
    "# label_encoder object knows how to understand word labels. \n",
    "label_encoder = preprocessing.LabelEncoder() \n",
    "  \n",
    "for column in categorical_columns:\n",
    "    train_data[column]= label_encoder.fit_transform(train_data[column])"
   ]
  },
  {
   "cell_type": "code",
   "execution_count": 30,
   "metadata": {},
   "outputs": [
    {
     "data": {
      "text/plain": [
       "Item_Identifier              0\n",
       "Item_Weight                  0\n",
       "Item_Fat_Content             0\n",
       "Item_Visibility              0\n",
       "Item_Type                    0\n",
       "Item_MRP                     0\n",
       "Outlet_Identifier            0\n",
       "Outlet_Establishment_Year    0\n",
       "Outlet_Size                  0\n",
       "Outlet_Location_Type         0\n",
       "Outlet_Type                  0\n",
       "Item_Outlet_Sales            0\n",
       "Item_Type_Combined           0\n",
       "Outlet_Age                   0\n",
       "dtype: int64"
      ]
     },
     "execution_count": 30,
     "metadata": {},
     "output_type": "execute_result"
    }
   ],
   "source": [
    "train_data.isna().sum()"
   ]
  },
  {
   "cell_type": "code",
   "execution_count": 31,
   "metadata": {},
   "outputs": [],
   "source": [
    "categorical_columns = list(test_data.columns[test_data.dtypes == 'object'])\n",
    "usefull = ['Item_Identifier','Outlet_Identifier']\n",
    "for i in usefull:\n",
    "    categorical_columns.remove(i)\n",
    "\n",
    "# label_encoder object knows how to understand word labels. \n",
    "label_encoder = preprocessing.LabelEncoder() \n",
    "  \n",
    "for column in categorical_columns:\n",
    "    test_data[column]= label_encoder.fit_transform(test_data[column])"
   ]
  },
  {
   "cell_type": "code",
   "execution_count": 32,
   "metadata": {},
   "outputs": [],
   "source": [
    "\n",
    "train_data.to_csv('DataToModel.csv')\n",
    "test_data.to_csv('TestData.csv')"
   ]
  },
  {
   "cell_type": "code",
   "execution_count": 33,
   "metadata": {},
   "outputs": [],
   "source": [
    "\n",
    "#Mean based:\n",
    "mean_sales = train_data['Item_Outlet_Sales'].mean()"
   ]
  },
  {
   "cell_type": "code",
   "execution_count": 34,
   "metadata": {},
   "outputs": [],
   "source": [
    "mean_sales = train_data.groupby('Item_Identifier')['Item_Outlet_Sales'].mean().reset_index()"
   ]
  },
  {
   "cell_type": "code",
   "execution_count": 35,
   "metadata": {},
   "outputs": [],
   "source": [
    "mean_sales_by_outlet = train_data.groupby('Outlet_Identifier')['Item_Outlet_Sales'].mean().reset_index()"
   ]
  },
  {
   "cell_type": "code",
   "execution_count": 36,
   "metadata": {},
   "outputs": [],
   "source": [
    "mean_sales.to_csv('mean_sales.csv')"
   ]
  },
  {
   "cell_type": "code",
   "execution_count": 37,
   "metadata": {},
   "outputs": [],
   "source": [
    "\n",
    "sample = pd.read_csv(r\"C:\\Users\\SaurabhM\\Jupyter Project Files\\My Works\\Big Mart Predicition\\sample_submission.csv\")"
   ]
  },
  {
   "cell_type": "code",
   "execution_count": 38,
   "metadata": {},
   "outputs": [],
   "source": [
    "merged_inner = pd.merge(left=sample, right=mean_sales, left_on='Item_Identifier', right_on='Item_Identifier')"
   ]
  },
  {
   "cell_type": "code",
   "execution_count": 39,
   "metadata": {},
   "outputs": [],
   "source": [
    "merged_inner_by_outlet = pd.merge(left=sample, right=mean_sales_by_outlet, left_on='Outlet_Identifier', right_on='Outlet_Identifier')"
   ]
  },
  {
   "cell_type": "code",
   "execution_count": null,
   "metadata": {},
   "outputs": [],
   "source": []
  }
 ],
 "metadata": {
  "kernelspec": {
   "display_name": "Python 3",
   "language": "python",
   "name": "python3"
  },
  "language_info": {
   "codemirror_mode": {
    "name": "ipython",
    "version": 3
   },
   "file_extension": ".py",
   "mimetype": "text/x-python",
   "name": "python",
   "nbconvert_exporter": "python",
   "pygments_lexer": "ipython3",
   "version": "3.7.3"
  }
 },
 "nbformat": 4,
 "nbformat_minor": 2
}
