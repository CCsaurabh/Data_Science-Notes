{
 "cells": [
  {
   "cell_type": "code",
   "execution_count": 1,
   "metadata": {},
   "outputs": [],
   "source": [
    "import pandas as pd\n",
    "import numpy as np\n",
    
    "from mlxtend.feature_selection import SequentialFeatureSelector as sfs\n",
    "from sklearn.model_selection import GridSearchCV, RandomizedSearchCV\n",
    "from sklearn.model_selection import KFold, RepeatedKFold,StratifiedKFold, train_test_split\n",
    "from scipy.stats import randint as sp_randint\n",
    "import warnings\n",

    
    "warnings.simplefilter(action='ignore', category=FutureWarning)\n",
    "warnings.simplefilter(action='ignore', category=UserWarning)\n",
    "import seaborn as sns\n",
    "from sklearn.preprocessing import StandardScaler\n",
    "import matplotlib.pyplot as plt\n",
    "%matplotlib inline\n",
    
    "\n",
    "#plt.xticks(rotation=60,fontsize=13)"
   ]
  },
  {
   "cell_type": "code",
   "execution_count": 2,
   "metadata": {},
   "outputs": [],
   "source": [
    "\n",
    "def plotLearningCurve(_model,_ColList,_xtrain,_ytrain,_cv=5):\n",
    "    from sklearn.model_selection import learning_curve\n",
    "    _LC_output=learning_curve(_model, _xtrain[_ColList], _ytrain, n_jobs=-1, cv=_cv, train_sizes=np.linspace(.1, 1.0, 5), verbose=0)\n",
    "\n",
    "    _train_sizes, _train_scores, _test_scores =_LC_output[0],_LC_output[1],_LC_output[2]\n",
    "\n",
    "    _train_scores_mean,_train_scores_std=np.mean(_LC_output[1], axis=1),np.std(_LC_output[1], axis=1)\n",
    "\n",
    "    _test_scores_mean,_test_scores_std=np.mean(_LC_output[2], axis=1),np.std(_LC_output[2], axis=1)\n",
    "    plt.figure(figsize=(15,5))\n",
    "    plt.title(\"\"\"Learning Curve to Understand wheather model has high bias, high variance or is ideal\\n\"\"\"+str(_train_sizes))\n",
    "    #plt.legend(loc=\"best\")\n",
    "    plt.xlabel(\"Training examples\")\n",
    "    plt.ylabel(\"Score\")\n",
    "    plt.gca().invert_yaxis()\n",
    "    #print()\n",
    "     # plot the std deviation as a transparent range at each training set size\n",
    "    plt.fill_between(_train_sizes, _train_scores_mean - _train_scores_std, _train_scores_mean + _train_scores_std, alpha=0.1, color=\"r\")\n",
    "    plt.fill_between(_train_sizes, _test_scores_mean - _test_scores_std, _test_scores_mean + _test_scores_std, alpha=0.1, color=\"g\")\n",
    "    #print(train_scores_mean)  \n",
    "        # plot the average training and test score lines at each training set size\n",
    "    plt.plot(_train_sizes, _train_scores_mean, 'o-', color=\"r\", label=\"Training score\")\n",
    "    plt.plot(_train_sizes, _test_scores_mean, 'o-', color=\"g\", label=\"Cross-validation score\")\n",
    "    \n",
    "def desc(data):\n",
    "    from sklearn.preprocessing import normalize\n",
    "    unique_val=pd.DataFrame(index=data.columns)\n",
    "    def obtain_variance(data):\n",
    "        \n",
    "        if data.dtypes in ('float64','int64'):\n",
    "             xy1= pd.DataFrame(np.array(data*1.0))\n",
    "             # variance values less than 0.006 ( threash hold), drop the column\n",
    "            # If it is categorical binary column and if values 95:5 ratio, you drop the variable.\n",
    "            #If it is continuous column and variance is less than 0.0066, you drop the variable (remember 0.0066 is value obtained after normalizing the variable).\n",
    "\n",
    "             return \"%3g\"%xy1.var()[0]\n",
    "        elif data.dtypes =='object':\n",
    "            xy1= pd.DataFrame(data).copy()\n",
    "            xy1.reset_index()\n",
    "    def obtain_std(data):\n",
    "        if data.dtypes in ('float64','int64'):\n",
    "             return \"%3g\"%pd.DataFrame(data*1.0).std()[0]\n",
    "    def obtain_mean(data):\n",
    "        if data.dtypes in ('float64','int64'):\n",
    "             return \"%3g\"%pd.DataFrame(data*1.0).mean()[0]\n",
    "    def obtain_min(data):\n",
    "        if data.dtypes in ('float64','int64'):\n",
    "             return \"%3g\"%pd.DataFrame(data*1.0).min()[0]\n",
    "    def obtain_max(data):\n",
    "        if data.dtypes in ('float64','int64'):\n",
    "             return \"%3g\"%pd.DataFrame(data*1.0).max()[0]\n",
    "    for i in data.columns:\n",
    "        unique_val.loc[i,'dtypes']=data[i].dtypes\n",
    "        unique_val.loc[i,'null_count']=data[i].isnull().sum() \n",
    "        unique_val.loc[i,'total_count']=data[i].notnull().sum()\n",
    "        unique_val.loc[i,'unique_count']=data[i].nunique()\n",
    "        unique_val.loc[i,'missing value ratio']=\"%0.2g\" %(data[i].isnull().sum()/len(data)) +'%'\n",
    "        unique_val.loc[i,'variance of numerics']= obtain_variance(data[i])\n",
    "        unique_val.loc[i,'std']= obtain_std(data[i])\n",
    "        unique_val.loc[i,'mean']= obtain_mean(data[i])\n",
    "        unique_val.loc[i,'min']= obtain_min(data[i])\n",
    "        unique_val.loc[i,'mean']= obtain_max(data[i])\n",
    "    return unique_val.sort_values(by=['unique_count','null_count'])\n",
    "\n",
    "def plot_confusion_matrix(cm):\n",
    "    plt.figure(figsize=[9, 6])\n",
    "  \n",
    "    df_cm = pd.DataFrame(\n",
    "        cm, index=['Actual: No','Actual: Yes'], columns=['Predicted: No','Predicted: Yes']\n",
    "    )\n",
    "    dd= pd.DataFrame(np.array([['TP','FN'],['FP','TN']]))\n",
    "    print(dd)\n",
    "    #sns.heatmap(np.array([['TP','FP'],['FN','TN']]), annot=True, annot_kws={\"size\": 20},fmt='g', yticklabels=False)\n",
    "    sns.heatmap(cm, annot=True, annot_kws={\"size\": 20},fmt='g', yticklabels=False,xticklabels=False)\n",
    "    #plt.xticks(fontsize=20)\n",
    "    plt.yticks(fontsize=20)\n",
    "    plt.title('Actual False      Actual True', fontsize=18)\n",
    "    plt.ylabel('Predicted True           Predicted False', fontsize=18)\n",
    "    \n",
    "def plot_roc_curve(model,X,Y):\n",
    "    from sklearn.metrics import roc_curve\n",
    "    pred = model.predict_proba(X)[:,1]\n",
    "\n",
    "    fpr, tpr, _ = roc_curve(Y,pred) \n",
    "    auc = roc_auc_score(Y, pred) \n",
    "\n",
    "    #print(fpr,tpr,auc)\n",
    "    \n",
    "    plt.figure(figsize=(12,8)) \n",
    "    plt.plot(fpr,tpr,label=\"Validation AUC-ROC=\"+str(auc)) \n",
    "    x = np.linspace(0, 1, 1000)\n",
    "    plt.plot(x, x, linestyle='-')\n",
    "    plt.xlabel('False Positive Rate') \n",
    "    plt.ylabel('True Positive Rate') \n",
    "    plt.legend(loc=4) \n",
    "\n",
    "def plot_pr_curve(model,X,Y):\n",
    "    fig= plt.figure(figsize=(12,7))\n",
    "    probas = model_lr.predict_proba(X)[:,1]\n",
    "    pred = model_lr.predict(X)\n",
    "\n",
    "    #fpr, tpr, _ = roc_curve(Y,pred) \n",
    "    precision, recall, thresholds = precision_recall_curve(Y, probas)\n",
    "    f1 = f1_score(Y, pred)\n",
    "    auc_s = auc(recall, precision)\n",
    "    #f1,auc\n",
    "    print(recall[:])\n",
    "    print('Logistic: f1=%.3f auc=%.3f' % (f1, auc_s))\n",
    "    no_skill=len(Y[Y==1]) / len(Y)\n",
    "    plt.plot([0, 1], [no_skill, no_skill], marker='^',linestyle='--', label='No Skill')\n",
    "    plt.plot(recall, precision, marker='.', label='Logistic')\n",
    "    plt.ylabel('Precison',fontsize=25) \n",
    "    plt.xlabel('Recall',fontsize=25)\n",
    "    plt.legend(loc=4)\n",
    "    \n",
    "def classificationModelfit_CV(ml_model,dataframe, Y,cols, rstate = 12, thres = 0.5,  plotROC=0):\n",
    "    i = 1\n",
    "    roc_scores = []\n",
    "    tpr_scores=[]\n",
    "    fpr_scores=[]\n",
    "    precision_scores=[]\n",
    "    recall_scores=[]\n",
    "    confusion_matrix_scores=[]\n",
    "    accuracy_scores=[]\n",
    "    f1_scores=[]\n",
    "    PRCprecisions=[]\n",
    "    PRCrecalls=[]\n",
    "    PRCauc_scores=[]\n",
    "    Number_of_Trues=[]\n",
    "    df1 = dataframe.copy()\n",
    "    df1 = dataframe[cols]\n",
    "    cv_scoredf=pd.DataFrame()\n",
    "    # 5 Fold cross validation stratified on the basis of target\n",
    "    kf = StratifiedKFold(n_splits=5,random_state=rstate,shuffle=True)\n",
    "    for df_index,test_index in kf.split(df1,Y):\n",
    "        \n",
    "        xtr,xvl = df1.loc[df_index],df1.loc[test_index]\n",
    "        ytr,yvl = Y.loc[df_index],Y.loc[test_index]\n",
    "        #print(xtr.shape,xvl.shape,ytr.shape,yvl.shape)\n",
    "            \n",
    "        # Define model for fitting on the training set for each fold\n",
    "        model = ml_model\n",
    "        model.fit(xtr, ytr)\n",
    "        pred_probs = model.predict_proba(xvl)\n",
    "        pp = []\n",
    "        \n",
    "        #plot_roc_curve(model,xtr,ytr)\n",
    "        # Use threshold to define the classes based on probability values\n",
    "        for j in pred_probs[:,1]:\n",
    "            if j>thres:\n",
    "                pp.append(1)\n",
    "            else:\n",
    "                pp.append(0)\n",
    "         \n",
    "        # Calculate scores for each fold and print\n",
    "        pred_val = pp\n",
    "        \n",
    "        # ROC Matrix Data\n",
    "        fpr, tpr, ROC_Threshholds = roc_curve(yvl,pred_probs[:,1]) \n",
    "        roc_score = roc_auc_score(yvl,pred_probs[:,1])\n",
    "        recall = recall_score(yvl,pred_val)\n",
    "        precision = precision_score(yvl,pred_val)\n",
    "        accuracy_score1 = accuracy_score(yvl,pred_val)\n",
    "        \n",
    "        # Precession Recall matrix Data\n",
    "        PRCprecision, PRCrecall, _ = precision_recall_curve(yvl, pred_probs[:,1])\n",
    "        f1_sc = f1_score(yvl, pred_val)\n",
    "        Number_of_True=len(yvl[yvl==1]) / len(yvl)\n",
    "        PRCauc= auc(PRCrecall,PRCprecision)\n",
    "        \n",
    "        cm=confusion_matrix(yvl,pred_val)\n",
    "        if plotROC==3:\n",
    "            plot_confusion_matrix(cm)\n",
    "         # Save scores\n",
    "\n",
    "        roc_scores.append(roc_score)\n",
    "        fpr_scores.append(fpr)\n",
    "        tpr_scores.append(tpr)\n",
    "        recall_scores.append(recall)\n",
    "        precision_scores.append(precision)\n",
    "        confusion_matrix_scores.append(cm)\n",
    "        accuracy_scores.append(accuracy_score1)\n",
    "        f1_scores.append(f1_sc)\n",
    "        PRCprecisions.append(PRCprecision)\n",
    "        PRCrecalls.append(PRCrecall)\n",
    "        Number_of_Trues.append(Number_of_True)\n",
    "        PRCauc_scores.append(PRCauc)\n",
    "        \n",
    "        i+=1   \n",
    "    cv_scoredf['fpr_scores'] =fpr_scores\n",
    "    cv_scoredf['tpr_scores'] =tpr_scores\n",
    "    cv_scoredf['roc_scores'] =roc_scores\n",
    "    cv_scoredf['recall_scores'] =recall_scores\n",
    "    cv_scoredf['precision_scores'] =precision_scores\n",
    "    cv_scoredf['confusion_matrix_scores']=confusion_matrix_scores\n",
    "    cv_scoredf['accuracy_scores'] =accuracy_scores\n",
    "    cv_scoredf['f1_scores'] =f1_scores\n",
    "    cv_scoredf['PRCprecisions'] =PRCprecisions\n",
    "    cv_scoredf['PRCrecalls'] =PRCrecalls\n",
    "    cv_scoredf['Number_of_Trues'] =Number_of_Trues\n",
    "    cv_scoredf['PRCauc_scores'] =PRCauc_scores\n",
    "    \n",
    "    \n",
    "    if plotROC==1:\n",
    "        plt.figure(figsize=(26,10))\n",
    "        plt.title(\"\"\"   ROC(Reciever Operating) Curve\n",
    "    (Cross Validation)\n",
    "    \"\"\",color='blue')\n",
    "        #plt.plot(fpr,tpr,label=\"Non-CV AUC-ROC=\"+str(\"%  0.2f\"%auc), linewidth=7,color='magenta') \n",
    "        for i in range(5):\n",
    "            x = np.linspace(0, 1, 1000)\n",
    "            plt.plot(x, x, linestyle='-')\n",
    "            \n",
    "            plt.plot(fpr_scores[i],tpr_scores[i],label=\"CV set=%i, Accuracy=%0.2f, AUC= %0.2f, Recall=%0.2f, Precison=%0.2f\"\n",
    "                     %(i,accuracy_scores[i],roc_scores[i],recall_scores[i],precision_scores[i])\n",
    "                     ) \n",
    "            plt.legend(loc=4,fontsize=25)\n",
    "            plt.xlabel('False Positive Rate') \n",
    "            plt.ylabel('True Positive Rate')          \n",
    "    \n",
    "    elif plotROC==2:  \n",
    "        plt.figure(figsize=(26,10))\n",
    "        plt.title(\"\"\"   Precision Recall Curve\n",
    "    (Cross Validation)\n",
    "    \"\"\",color='blue')\n",
    "        plt.plot([0, 1], [Number_of_Trues[0], Number_of_Trues[0]], marker='^',linestyle='--', label='Number of true values=%0.2f' %Number_of_Trues[0])\n",
    "\n",
    "        for i in range(5):\n",
    "                #  print(\"CV set=%i, Accuracy=%0.2f, f1_score=%0.2f, Number_of_Trues=%0.2f, prcAUC_scores=%0.2f \"\n",
    "                #       %(i, accuracy_scores[i], f1_scores[i], Number_of_Trues[i], PRCauc_scores[i]  ))\n",
    "                \n",
    "                plt.plot(PRCrecalls[i],PRCprecisions[i], marker='.', \n",
    "                         label=\"CV set=%i, Accuracy=%0.2f, f1_score=%0.2f, prcAUC_scores=%0.2f,Recall=%0.2f, Precison=%0.2f \"\n",
    "                      %(i, accuracy_scores[i], f1_scores[i], PRCauc_scores[i],recall_scores[i],precision_scores[i]  ))\n",
    "                plt.ylabel('Precison',fontsize=25) \n",
    "                plt.xlabel('Recall',fontsize=25)\n",
    "                plt.legend(loc=4,fontsize=25)         \n",
    "    else:\n",
    "        for i in range(5):\n",
    "            print('\\n{} of kfold {}'.format(i,kf.n_splits))\n",
    "            sufix = \"\"\n",
    "            msg = \"\"\n",
    "            msg += \"CV1 set=%i,Accuracy=%0.2f, AUC= %0.2f, Recall=%0.2f, Precison=%0.2f\"%(i,accuracy_scores[i],roc_scores[i],recall_scores[i],precision_scores[i])\n",
    "            print(\"{}\".format(msg))\n",
    "            print(confusion_matrix_scores[i])\n",
    "            print(\"CV set=%i, Accuracy=%0.2f, f1_score=%0.2f, Number_of_Trues=%0.2f,prcAUC_scores=%0.2f, Recall=%0.2f, Precison=%0.2f\"\n",
    "              %(i,accuracy_scores[i],f1_scores[i],Number_of_Trues[i], PRCauc_scores[i],recall_scores[i],precision_scores[i] ))\n",
    "            \n",
    "    return cv_scoredf\n",
    "\n",
    "def regressionModelfit_CV(alg, cols,  x, y,algo_name):\n",
    "    #Fit the algorithm on the data\n",
    "    print('------------      ' + algo_name + '     ------------')\n",
    "    _list1=[]\n",
    "    _df=pd.DataFrame(columns=[algo_name])\n",
    "    from sklearn.model_selection import cross_val_score\n",
    "    from sklearn.model_selection import cross_validate\n",
    "    xdata= x[cols]\n",
    "    ydata=y\n",
    "    alg.fit(xdata, ydata)\n",
    "        \n",
    "    #Predict training set:\n",
    "    dtrain_predictions = alg.predict(xdata)\n",
    "\n",
    "    \n",
    "    cv_score = cross_val_score(alg, xdata, ydata, cv=4,scoring= 'neg_mean_squared_error')\n",
    "    #Perform cross-validation:\n",
    "    cv_matrix_score= cross_validate(alg, xdata, ydata, cv=4,scoring=(\n",
    "                         'r2', \n",
    "                         'neg_mean_absolute_error',\n",
    "                         'neg_mean_squared_error'\n",
    "                         ),\n",
    "                         return_train_score=True,verbose=0)\n",
    "    #return cv_matrix_score\n",
    "    avg_model_Scores=pd.DataFrame(cv_matrix_score).mean()\n",
    "    for i in avg_model_Scores.index:\n",
    "        \n",
    "        if 'neg' in i :\n",
    "            score=\"%s =%0.2f\" %(i, np.sqrt(avg_model_Scores[i]*-1) )\n",
    "            _df.loc[i]=np.sqrt(avg_model_Scores[i]*-1)\n",
    "            print(score)\n",
    "        else:\n",
    "            score=\"%s =%0.2f\" %(i, avg_model_Scores[i] )\n",
    "            _df.loc[i]=avg_model_Scores[i]\n",
    "            print(score)\n",
    "    return _df[algo_name]\n",
    "    #dtest[target] = alg.predict(dtest[predictors])\n",
    "    \n",
    "    #Export submission file:\n",
    "    #IDcol.append(target)\n",
    "    #submission = pd.DataFrame({ x: dtest[x] for x in IDcol})\n",
    "    #submission.to_csv(filename, index=False)\n",
    "\n",
    "def getLinearModelScore(_model, xTrainingData,yTrainingData,columnlist):\n",
    "    xTrainingData=xTrainingData[columnlist]\n",
    "    x_train, x_test, y_train, y_test = train_test_split(xTrainingData,yTrainingData, test_size =0.3)\n",
    "    _model.fit(x_train, y_train)\n",
    "    ptrain = _model.predict(x_train)\n",
    "    ptest = _model.predict(x_test)\n",
    "    from sklearn.metrics import mean_squared_error\n",
    "    print(\"train MSE=\"%(mean_squared_error(ptrain,y_train)))\n",
    "    print(\"test MSE=\"%(mean_squared_error(ptest,y_test)))"
   ]
  },
  {
   "cell_type": "code",
   "execution_count": 3,
   "metadata": {},
   "outputs": [],
   "source": [
    "def crossTabHistGramPlot(groupColumn, BinaryValColumn, Dataframe):\n",
    "    plt1 = plt\n",
    "    i = 430\n",
    "    j = 1\n",
    "    fig= plt1.figure(figsize=(30,30))\n",
    "    plt1.suptitle(\"Catagorical Cols Analysis with status/label columns \" + BinaryValColumn)\n",
    "    for colname in groupColumn:\n",
    "        ax1 = plt1.subplot(j+i)\n",
    "        i = i + 1\n",
    "        CreditHistory_loanStatus = pd.crosstab(Dataframe[colname], Dataframe[BinaryValColumn])\n",
    "        CreditHistory_loanStatus.plot(kind='bar', stacked=True, grid=False, ax = ax1)\n",
    "        plt1.xticks(rotation=12,fontsize=25)\n",
    "        plt1.xlabel(colname,fontsize=25)\n",
    "        plt1.ylabel(BinaryValColumn)\n",
    "        \n",
    "        plt1.legend(fontsize=20)\n",
    "        #plt1.title(colname)\n",
    "    plt1.show()"
   ]
  },
  {
   "cell_type": "code",
   "execution_count": 4,
   "metadata": {},
   "outputs": [
    {
     "name": "stdout",
     "output_type": "stream",
     "text": [
      "(8523, 12) (5681, 11)\n"
     ]
    }
   ],
   "source": [
    "train_org=pd.read_csv(r\"C:\\Users\\SaurabhM\\Jupyter Project Files\\My Works\\Big Mart Predicition\\train.csv\")\n",
    "test_org=pd.read_csv(r\"C:\\Users\\SaurabhM\\Jupyter Project Files\\My Works\\Big Mart Predicition\\test.csv\")\n",
    "train=train_org.copy()\n",
    "test=test_org.copy()\n",
    "label_col='Item_Outlet_Sales'\n",
    "ntest=test.shape[1]\n",
    "print(train.shape,test.shape)"
   ]
  },
  {
   "cell_type": "code",
   "execution_count": 5,
   "metadata": {},
   "outputs": [],
   "source": [
    "train_test=pd.concat([train_org,test_org],ignore_index=True)"
   ]
  },
  {
   "cell_type": "code",
   "execution_count": 6,
   "metadata": {},
   "outputs": [
    {
     "data": {
      "text/html": [
       "<div>\n",
       "<style scoped>\n",
       "    .dataframe tbody tr th:only-of-type {\n",
       "        vertical-align: middle;\n",
       "    }\n",
       "\n",
       "    .dataframe tbody tr th {\n",
       "        vertical-align: top;\n",
       "    }\n",
       "\n",
       "    .dataframe thead th {\n",
       "        text-align: right;\n",
       "    }\n",
       "</style>\n",
       "<table border=\"1\" class=\"dataframe\">\n",
       "  <thead>\n",
       "    <tr style=\"text-align: right;\">\n",
       "      <th></th>\n",
       "      <th>Item_Weight</th>\n",
       "      <th>Item_Visibility</th>\n",
       "      <th>Item_MRP</th>\n",
       "      <th>Outlet_Establishment_Year</th>\n",
       "    </tr>\n",
       "  </thead>\n",
       "  <tbody>\n",
       "    <tr>\n",
       "      <th>count</th>\n",
       "      <td>4705.000000</td>\n",
       "      <td>5681.000000</td>\n",
       "      <td>5681.000000</td>\n",
       "      <td>5681.000000</td>\n",
       "    </tr>\n",
       "    <tr>\n",
       "      <th>mean</th>\n",
       "      <td>12.695633</td>\n",
       "      <td>0.065684</td>\n",
       "      <td>141.023273</td>\n",
       "      <td>1997.828903</td>\n",
       "    </tr>\n",
       "    <tr>\n",
       "      <th>std</th>\n",
       "      <td>4.664849</td>\n",
       "      <td>0.051252</td>\n",
       "      <td>61.809091</td>\n",
       "      <td>8.372256</td>\n",
       "    </tr>\n",
       "    <tr>\n",
       "      <th>min</th>\n",
       "      <td>4.555000</td>\n",
       "      <td>0.000000</td>\n",
       "      <td>31.990000</td>\n",
       "      <td>1985.000000</td>\n",
       "    </tr>\n",
       "    <tr>\n",
       "      <th>25%</th>\n",
       "      <td>8.645000</td>\n",
       "      <td>0.027047</td>\n",
       "      <td>94.412000</td>\n",
       "      <td>1987.000000</td>\n",
       "    </tr>\n",
       "    <tr>\n",
       "      <th>50%</th>\n",
       "      <td>12.500000</td>\n",
       "      <td>0.054154</td>\n",
       "      <td>141.415400</td>\n",
       "      <td>1999.000000</td>\n",
       "    </tr>\n",
       "    <tr>\n",
       "      <th>75%</th>\n",
       "      <td>16.700000</td>\n",
       "      <td>0.093463</td>\n",
       "      <td>186.026600</td>\n",
       "      <td>2004.000000</td>\n",
       "    </tr>\n",
       "    <tr>\n",
       "      <th>max</th>\n",
       "      <td>21.350000</td>\n",
       "      <td>0.323637</td>\n",
       "      <td>266.588400</td>\n",
       "      <td>2009.000000</td>\n",
       "    </tr>\n",
       "  </tbody>\n",
       "</table>\n",
       "</div>"
      ],
      "text/plain": [
       "       Item_Weight  Item_Visibility     Item_MRP  Outlet_Establishment_Year\n",
       "count  4705.000000      5681.000000  5681.000000                5681.000000\n",
       "mean     12.695633         0.065684   141.023273                1997.828903\n",
       "std       4.664849         0.051252    61.809091                   8.372256\n",
       "min       4.555000         0.000000    31.990000                1985.000000\n",
       "25%       8.645000         0.027047    94.412000                1987.000000\n",
       "50%      12.500000         0.054154   141.415400                1999.000000\n",
       "75%      16.700000         0.093463   186.026600                2004.000000\n",
       "max      21.350000         0.323637   266.588400                2009.000000"
      ]
     },
     "execution_count": 6,
     "metadata": {},
     "output_type": "execute_result"
    }
   ],
   "source": [
    "test_org.describe()"
   ]
  },
  {
   "cell_type": "code",
   "execution_count": 7,
   "metadata": {},
   "outputs": [],
   "source": [
    "col=test_org.columns"
   ]
  },
  {
   "cell_type": "code",
   "execution_count": 8,
   "metadata": {},
   "outputs": [
    {
     "data": {
      "text/plain": [
       "Index(['Item_Identifier', 'Item_Weight', 'Item_Fat_Content', 'Item_Visibility',\n",
       "       'Item_Type', 'Item_MRP', 'Outlet_Identifier',\n",
       "       'Outlet_Establishment_Year', 'Outlet_Size', 'Outlet_Location_Type',\n",
       "       'Outlet_Type'],\n",
       "      dtype='object')"
      ]
     },
     "execution_count": 8,
     "metadata": {},
     "output_type": "execute_result"
    }
   ],
   "source": [
    "col"
   ]
  },
  {
   "cell_type": "code",
   "execution_count": 9,
   "metadata": {},
   "outputs": [
    {
     "data": {
      "text/plain": [
       "Index(['Item_Identifier', 'Item_Weight', 'Item_Fat_Content', 'Item_Visibility',\n",
       "       'Item_Type', 'Item_MRP', 'Outlet_Identifier',\n",
       "       'Outlet_Establishment_Year', 'Outlet_Size', 'Outlet_Location_Type',\n",
       "       'Outlet_Type', 'Item_Outlet_Sales'],\n",
       "      dtype='object')"
      ]
     },
     "execution_count": 9,
     "metadata": {},
     "output_type": "execute_result"
    }
   ],
   "source": [
    "col2=train_org.columns\n",
    "col2"
   ]
  },
  {
   "cell_type": "code",
   "execution_count": 52,
   "metadata": {},
   "outputs": [],
   "source": [
    "def bar_plot(x,y,name1=\" \",name2=\" \"):\n",
    "    fig = plt.figure(figsize = (15, 10)) \n",
    "  \n",
    "    # creating the bar plot \n",
    "    plt.bar(x, y, color ='maroon',  \n",
    "            width = 0.4) \n",
    "    plt.xlabel(name1) \n",
    "    plt.ylabel(name2)\n",
    "    if name1!=\" \" and name2!=\" \":\n",
    "        plt.title(name2+\" vs \"+name1) \n",
    "    plt.show() \n",
    "    "
   ]
  },
  {
   "cell_type": "code",
   "execution_count": 23,
   "metadata": {},
   "outputs": [
    {
     "data": {
      "image/png": "[encoded data removed]",
      "text/plain": [
       "<Figure size 720x360 with 1 Axes>"
      ]
     },
     "metadata": {
      "needs_background": "light"
     },
     "output_type": "display_data"
    }
   ],
   "source": [
    "bar_plot(train_org['Outlet_Identifier'], train_org['Item_Outlet_Sales'],\"Outlet_Identifier\",\"Item_Outlet_Sales\")"
   ]
  },
  {
   "cell_type": "code",
   "execution_count": 26,
   "metadata": {},
   "outputs": [
    {
     "data": {
      "image/png": "[encoded data removed]",
      "text/plain": [
       "<Figure size 720x360 with 1 Axes>"
      ]
     },
     "metadata": {
      "needs_background": "light"
     },
     "output_type": "display_data"
    }
   ],
   "source": [
    "bar_plot(train_org['Outlet_Identifier'], train_org['Item_Outlet_Sales'])"
   ]
  },
  {
   "cell_type": "code",
   "execution_count": 45,
   "metadata": {},
   "outputs": [
    {
     "name": "stdout",
     "output_type": "stream",
     "text": [
      "['Item_Identifier', 'Item_Fat_Content', 'Item_Type', 'Outlet_Identifier', 'Outlet_Size', 'Outlet_Location_Type', 'Outlet_Type']\n"
     ]
    }
   ],
   "source": [
    "def categorical_columns(x):\n",
    "    col=x.columns\n",
    "    a=[]\n",
    "    for columnss in col:\n",
    "        if x[columnss].dtypes=='O':\n",
    "            a.append(columnss)\n",
    "    return a\n",
    "\n",
    "x=categorical_columns(train_org)\n",
    "print(x)"
   ]
  },
  {
   "cell_type": "code",
   "execution_count": 46,
   "metadata": {},
   "outputs": [
    {
     "data": {
      "image/png": "[encoded data removed]",
      "text/plain": [
       "<Figure size 1440x1080 with 1 Axes>"
      ]
     },
     "metadata": {
      "needs_background": "light"
     },
     "output_type": "display_data"
    }
   ],
   "source": [
    "bar_plot(train_org['Item_Identifier'], train_org['Item_Outlet_Sales'])"
   ]
  },
  {
   "cell_type": "code",
   "execution_count": 47,
   "metadata": {},
   "outputs": [
    {
     "data": {
      "image/png": "[encoded data removed]",
      "text/plain": [
       "<Figure size 1440x1080 with 1 Axes>"
      ]
     },
     "metadata": {
      "needs_background": "light"
     },
     "output_type": "display_data"
    }
   ],
   "source": [
    "bar_plot(train_org['Outlet_Type'], train_org['Item_Outlet_Sales'])"
   ]
  },
  {
   "cell_type": "code",
   "execution_count": 49,
   "metadata": {},
   "outputs": [
    {
     "data": {
      "image/png": "[encoded data removed]",
      "text/plain": [
       "<Figure size 1080x1080 with 1 Axes>"
      ]
     },
     "metadata": {
      "needs_background": "light"
     },
     "output_type": "display_data"
    }
   ],
   "source": [
    "bar_plot(train_org['Outlet_Location_Type'], train_org['Item_Outlet_Sales'])"
   ]
  },
  {
   "cell_type": "code",
   "execution_count": 51,
   "metadata": {},
   "outputs": [
    {
     "data": {
      "image/png": "[encoded data removed]",
      "text/plain": [
       "<Figure size 720x720 with 1 Axes>"
      ]
     },
     "metadata": {
      "needs_background": "light"
     },
     "output_type": "display_data"
    }
   ],
   "source": [
    "bar_plot(train_org['Item_Type'], train_org['Item_Outlet_Sales'])"
   ]
  },
  {
   "cell_type": "code",
   "execution_count": 53,
   "metadata": {},
   "outputs": [
    {
     "data": {
      "image/png": "[encoded data removed]",
      "text/plain": [
       "<Figure size 1080x720 with 1 Axes>"
      ]
     },
     "metadata": {
      "needs_background": "light"
     },
     "output_type": "display_data"
    }
   ],
   "source": [
    "bar_plot(train_org['Item_Fat_Content'], train_org['Item_Outlet_Sales'])"
   ]
  },
  {
   "cell_type": "code",
   "execution_count": 54,
   "metadata": {},
   "outputs": [
    {
     "name": "stdout",
     "output_type": "stream",
     "text": [
      "\n",
      "Modified Categories for : Item_Fat_Content\n"
     ]
    }
   ],
   "source": [
    "# \n",
    "#  1) Item Fat content Categories are mis-spelled\n",
    "#  2) the Item Type , there are many different categories, So it need to merged somehow\n",
    "#  3) Super market2 and super market 3 can be merged in Outlet type, As sub categrory are not distributed properly.\n",
    "\n",
    "# We use\n",
    "print('\\nModified Categories for :' , 'Item_Fat_Content')\n",
    "train_test['Item_Fat_Content'] = train_test['Item_Fat_Content'].replace({'LF': 1,\n",
    "                                                                         'Low Fat':1,\n",
    "                                                                         'low fat':1,\n",
    "                                                                         'reg':2,\n",
    "                                                                         'Regular':2\n",
    "                                                                        })\n"
   ]
  },
  {
   "cell_type": "code",
   "execution_count": 55,
   "metadata": {},
   "outputs": [
    {
     "data": {
      "text/plain": [
       "<matplotlib.axes._subplots.AxesSubplot at 0x185f23d2eb8>"
      ]
     },
     "execution_count": 55,
     "metadata": {},
     "output_type": "execute_result"
    },
    {
     "data": {
      "image/png": "[encoded data removed]",
      "text/plain": [
       "<Figure size 432x288 with 1 Axes>"
      ]
     },
     "metadata": {
      "needs_background": "light"
     },
     "output_type": "display_data"
    }
   ],
   "source": [
    "sns.countplot('Outlet_Size',hue='Outlet_Type',data=train_test)\n"
   ]
  },
  {
   "cell_type": "code",
   "execution_count": 56,
   "metadata": {},
   "outputs": [
    {
     "data": {
      "text/plain": [
       "<matplotlib.axes._subplots.AxesSubplot at 0x185f62816d8>"
      ]
     },
     "execution_count": 56,
     "metadata": {},
     "output_type": "execute_result"
    },
    {
     "data": {
      "image/png": "[encoded data removed]",
      "text/plain": [
       "<Figure size 432x288 with 1 Axes>"
      ]
     },
     "metadata": {
      "needs_background": "light"
     },
     "output_type": "display_data"
    }
   ],
   "source": [
    "sns.countplot('Outlet_Size',hue='Outlet_Location_Type',data=train_test)"
   ]
  },
  {
   "cell_type": "code",
   "execution_count": 57,
   "metadata": {},
   "outputs": [
    {
     "data": {
      "text/plain": [
       "Outlet_Identifier\n",
       "OUT010        Grocery Store\n",
       "OUT013    Supermarket Type1\n",
       "OUT017    Supermarket Type1\n",
       "OUT018    Supermarket Type2\n",
       "OUT019        Grocery Store\n",
       "OUT027    Supermarket Type3\n",
       "OUT035    Supermarket Type1\n",
       "OUT045    Supermarket Type1\n",
       "OUT046    Supermarket Type1\n",
       "OUT049    Supermarket Type1\n",
       "Name: Outlet_Type, dtype: object"
      ]
     },
     "execution_count": 57,
     "metadata": {},
     "output_type": "execute_result"
    }
   ],
   "source": [
    "train.groupby(['Outlet_Identifier'])['Outlet_Type'].agg(pd.Series.mode)"
   ]
  },
  {
   "cell_type": "code",
   "execution_count": 60,
   "metadata": {},
   "outputs": [
    {
     "data": {
      "text/plain": [
       "<matplotlib.axes._subplots.AxesSubplot at 0x18583d63898>"
      ]
     },
     "execution_count": 60,
     "metadata": {},
     "output_type": "execute_result"
    },
    {
     "data": {
      "image/png": "[encoded data removed]",
      "text/plain": [
       "<Figure size 1440x720 with 1 Axes>"
      ]
     },
     "metadata": {
      "needs_background": "light"
     },
     "output_type": "display_data"
    }
   ],
   "source": [
    "plt.figure(figsize=(20,10))\n",
    "sns.countplot('Outlet_Identifier',hue='Outlet_Type',data=train_test)"
   ]
  },
  {
   "cell_type": "code",
   "execution_count": 61,
   "metadata": {},
   "outputs": [
    {
     "data": {
      "text/plain": [
       "Outlet_Identifier\n",
       "OUT010        Grocery Store\n",
       "OUT013    Supermarket Type1\n",
       "OUT017    Supermarket Type1\n",
       "OUT018    Supermarket Type2\n",
       "OUT019        Grocery Store\n",
       "OUT027    Supermarket Type3\n",
       "OUT035    Supermarket Type1\n",
       "OUT045    Supermarket Type1\n",
       "OUT046    Supermarket Type1\n",
       "OUT049    Supermarket Type1\n",
       "Name: Outlet_Type, dtype: object"
      ]
     },
     "execution_count": 61,
     "metadata": {},
     "output_type": "execute_result"
    }
   ],
   "source": [
    "#train_test.pivot_table('Outlet_Size',index='Outlet_Identifier',aggfunc=pd.Series.mode)\n",
    "test.groupby(['Outlet_Identifier'])['Outlet_Type'].agg(pd.Series.mode)#.mode(np.mode())"
   ]
  },
  {
   "cell_type": "code",
   "execution_count": 62,
   "metadata": {},
   "outputs": [
    {
     "data": {
      "text/html": [
       "<div>\n",
       "<style scoped>\n",
       "    .dataframe tbody tr th:only-of-type {\n",
       "        vertical-align: middle;\n",
       "    }\n",
       "\n",
       "    .dataframe tbody tr th {\n",
       "        vertical-align: top;\n",
       "    }\n",
       "\n",
       "    .dataframe thead th {\n",
       "        text-align: right;\n",
       "    }\n",
       "</style>\n",
       "<table border=\"1\" class=\"dataframe\">\n",
       "  <thead>\n",
       "    <tr style=\"text-align: right;\">\n",
       "      <th></th>\n",
       "      <th>Item_Identifier</th>\n",
       "      <th>Item_Weight</th>\n",
       "      <th>Item_Fat_Content</th>\n",
       "      <th>Item_Visibility</th>\n",
       "      <th>Item_Type</th>\n",
       "      <th>Item_MRP</th>\n",
       "      <th>Outlet_Identifier</th>\n",
       "      <th>Outlet_Establishment_Year</th>\n",
       "      <th>Outlet_Size</th>\n",
       "      <th>Outlet_Location_Type</th>\n",
       "      <th>Outlet_Type</th>\n",
       "    </tr>\n",
       "  </thead>\n",
       "  <tbody>\n",
       "    <tr>\n",
       "      <th>0</th>\n",
       "      <td>FDW58</td>\n",
       "      <td>20.750</td>\n",
       "      <td>Low Fat</td>\n",
       "      <td>0.007565</td>\n",
       "      <td>Snack Foods</td>\n",
       "      <td>107.8622</td>\n",
       "      <td>OUT049</td>\n",
       "      <td>1999</td>\n",
       "      <td>Medium</td>\n",
       "      <td>Tier 1</td>\n",
       "      <td>Supermarket Type1</td>\n",
       "    </tr>\n",
       "    <tr>\n",
       "      <th>1</th>\n",
       "      <td>FDW14</td>\n",
       "      <td>8.300</td>\n",
       "      <td>reg</td>\n",
       "      <td>0.038428</td>\n",
       "      <td>Dairy</td>\n",
       "      <td>87.3198</td>\n",
       "      <td>OUT017</td>\n",
       "      <td>2007</td>\n",
       "      <td>NaN</td>\n",
       "      <td>Tier 2</td>\n",
       "      <td>Supermarket Type1</td>\n",
       "    </tr>\n",
       "    <tr>\n",
       "      <th>2</th>\n",
       "      <td>NCN55</td>\n",
       "      <td>14.600</td>\n",
       "      <td>Low Fat</td>\n",
       "      <td>0.099575</td>\n",
       "      <td>Others</td>\n",
       "      <td>241.7538</td>\n",
       "      <td>OUT010</td>\n",
       "      <td>1998</td>\n",
       "      <td>NaN</td>\n",
       "      <td>Tier 3</td>\n",
       "      <td>Grocery Store</td>\n",
       "    </tr>\n",
       "    <tr>\n",
       "      <th>3</th>\n",
       "      <td>FDQ58</td>\n",
       "      <td>7.315</td>\n",
       "      <td>Low Fat</td>\n",
       "      <td>0.015388</td>\n",
       "      <td>Snack Foods</td>\n",
       "      <td>155.0340</td>\n",
       "      <td>OUT017</td>\n",
       "      <td>2007</td>\n",
       "      <td>NaN</td>\n",
       "      <td>Tier 2</td>\n",
       "      <td>Supermarket Type1</td>\n",
       "    </tr>\n",
       "    <tr>\n",
       "      <th>4</th>\n",
       "      <td>FDY38</td>\n",
       "      <td>NaN</td>\n",
       "      <td>Regular</td>\n",
       "      <td>0.118599</td>\n",
       "      <td>Dairy</td>\n",
       "      <td>234.2300</td>\n",
       "      <td>OUT027</td>\n",
       "      <td>1985</td>\n",
       "      <td>Medium</td>\n",
       "      <td>Tier 3</td>\n",
       "      <td>Supermarket Type3</td>\n",
       "    </tr>\n",
       "  </tbody>\n",
       "</table>\n",
       "</div>"
      ],
      "text/plain": [
       "  Item_Identifier  Item_Weight Item_Fat_Content  Item_Visibility    Item_Type  \\\n",
       "0           FDW58       20.750          Low Fat         0.007565  Snack Foods   \n",
       "1           FDW14        8.300              reg         0.038428        Dairy   \n",
       "2           NCN55       14.600          Low Fat         0.099575       Others   \n",
       "3           FDQ58        7.315          Low Fat         0.015388  Snack Foods   \n",
       "4           FDY38          NaN          Regular         0.118599        Dairy   \n",
       "\n",
       "   Item_MRP Outlet_Identifier  Outlet_Establishment_Year Outlet_Size  \\\n",
       "0  107.8622            OUT049                       1999      Medium   \n",
       "1   87.3198            OUT017                       2007         NaN   \n",
       "2  241.7538            OUT010                       1998         NaN   \n",
       "3  155.0340            OUT017                       2007         NaN   \n",
       "4  234.2300            OUT027                       1985      Medium   \n",
       "\n",
       "  Outlet_Location_Type        Outlet_Type  \n",
       "0               Tier 1  Supermarket Type1  \n",
       "1               Tier 2  Supermarket Type1  \n",
       "2               Tier 3      Grocery Store  \n",
       "3               Tier 2  Supermarket Type1  \n",
       "4               Tier 3  Supermarket Type3  "
      ]
     },
     "execution_count": 62,
     "metadata": {},
     "output_type": "execute_result"
    }
   ],
   "source": [
    "test.head()"
   ]
  },
  {
   "cell_type": "code",
   "execution_count": 63,
   "metadata": {},
   "outputs": [
    {
     "data": {
      "text/plain": [
       "Outlet_Location_Type\n",
       "Tier 1     Small\n",
       "Tier 2     Small\n",
       "Tier 3    Medium\n",
       "Name: Outlet_Size, dtype: object"
      ]
     },
     "execution_count": 63,
     "metadata": {},
     "output_type": "execute_result"
    }
   ],
   "source": [
    "train.groupby(['Outlet_Location_Type'])['Outlet_Size'].agg(pd.Series.mode)#.mode(np.mode())"
   ]
  },
  {
   "cell_type": "code",
   "execution_count": 67,
   "metadata": {},
   "outputs": [
    {
     "name": "stdout",
     "output_type": "stream",
     "text": [
      "Index(['Tier 2', 'Tier 3'], dtype='object')\n"
     ]
    },
    {
     "data": {
      "text/plain": [
       "Outlet_Identifier\n",
       "OUT010    Tier 3\n",
       "OUT017    Tier 2\n",
       "OUT045    Tier 2\n",
       "Name: Outlet_Location_Type, dtype: object"
      ]
     },
     "execution_count": 67,
     "metadata": {},
     "output_type": "execute_result"
    }
   ],
   "source": [
    "nulls_loc=train[train['Outlet_Size'].isna()]['Outlet_Location_Type'].value_counts().index\n",
    "print(nulls_loc)\n",
    "train[train['Outlet_Size'].isna()].groupby(['Outlet_Identifier'])['Outlet_Location_Type'].agg(pd.Series.mode)"
   ]
  },
  {
   "cell_type": "code",
   "execution_count": 68,
   "metadata": {},
   "outputs": [
    {
     "data": {
      "text/plain": [
       "<matplotlib.axes._subplots.AxesSubplot at 0x185f85404a8>"
      ]
     },
     "execution_count": 68,
     "metadata": {},
     "output_type": "execute_result"
    },
    {
     "data": {
      "image/png": "[encoded data removed]",
      "text/plain": [
       "<Figure size 432x288 with 1 Axes>"
      ]
     },
     "metadata": {
      "needs_background": "light"
     },
     "output_type": "display_data"
    }
   ],
   "source": [
    "sns.heatmap(train.isnull(),yticklabels=False,cbar=False,cmap='viridis')"
   ]
  },
  {
   "cell_type": "code",
   "execution_count": 69,
   "metadata": {},
   "outputs": [
    {
     "data": {
      "text/plain": [
       "<matplotlib.axes._subplots.AxesSubplot at 0x185f884f4a8>"
      ]
     },
     "execution_count": 69,
     "metadata": {},
     "output_type": "execute_result"
    },
    {
     "data": {
      "image/png": "[encoded data removed]",
      "text/plain": [
       "<Figure size 432x288 with 1 Axes>"
      ]
     },
     "metadata": {
      "needs_background": "light"
     },
     "output_type": "display_data"
    }
   ],
   "source": [
    "sns.heatmap(test.isnull(),yticklabels=False,cbar=False,cmap='viridis')"
   ]
  },
  {
   "cell_type": "code",
   "execution_count": 70,
   "metadata": {},
   "outputs": [
    {
     "data": {
      "text/plain": [
       "Outlet_Location_Type\n",
       "Tier 1     Small\n",
       "Tier 2     Small\n",
       "Tier 3    Medium\n",
       "Name: Outlet_Size, dtype: object"
      ]
     },
     "execution_count": 70,
     "metadata": {},
     "output_type": "execute_result"
    }
   ],
   "source": [
    "train.groupby(['Outlet_Location_Type'])['Outlet_Size'].agg(pd.Series.mode)#.mode(np.mode())"
   ]
  },
  {
   "cell_type": "code",
   "execution_count": 71,
   "metadata": {},
   "outputs": [
    {
     "data": {
      "text/plain": [
       "Outlet_Location_Type\n",
       "Tier 1    Supermarket Type1\n",
       "Tier 2    Supermarket Type1\n",
       "Tier 3    Supermarket Type3\n",
       "Name: Outlet_Type, dtype: object"
      ]
     },
     "execution_count": 71,
     "metadata": {},
     "output_type": "execute_result"
    }
   ],
   "source": [
    "train.groupby(['Outlet_Location_Type'])['Outlet_Type'].agg(pd.Series.mode)#.mode(np.mode())"
   ]
  },
  {
   "cell_type": "code",
   "execution_count": 72,
   "metadata": {},
   "outputs": [
    {
     "data": {
      "text/plain": [
       "Outlet_Type\n",
       "Grocery Store         Small\n",
       "Supermarket Type1     Small\n",
       "Supermarket Type2    Medium\n",
       "Supermarket Type3    Medium\n",
       "Name: Outlet_Size, dtype: object"
      ]
     },
     "execution_count": 72,
     "metadata": {},
     "output_type": "execute_result"
    }
   ],
   "source": [
    "train.groupby(['Outlet_Type'])['Outlet_Size'].agg(pd.Series.mode)#.mode(np.mode())"
   ]
  },
  {
   "cell_type": "code",
   "execution_count": 73,
   "metadata": {},
   "outputs": [],
   "source": [
    "cond=(train_test['Outlet_Size'].isna())\n",
    "train_test.loc[cond & (train_test['Outlet_Identifier']=='OUT010') & (train_test['Outlet_Type']=='Grocery Store'),'Outlet_Size']='Medium'\n",
    "train_test.loc[cond & (train_test['Outlet_Identifier']=='OUT045') & (train_test['Outlet_Type']=='Supermarket Type1'),'Outlet_Size']='Small'\n",
    "train_test.loc[cond & (train_test['Outlet_Identifier']=='OUT017') & (train_test['Outlet_Type']=='Supermarket Type1'),'Outlet_Size']='Small'"
   ]
  },
  {
   "cell_type": "code",
   "execution_count": 74,
   "metadata": {},
   "outputs": [
    {
     "data": {
      "text/plain": [
       "<matplotlib.axes._subplots.AxesSubplot at 0x185f65e1c18>"
      ]
     },
     "execution_count": 74,
     "metadata": {},
     "output_type": "execute_result"
    },
    {
     "data": {
      "image/png": "[encoded data removed]",
      "text/plain": [
       "<Figure size 432x288 with 1 Axes>"
      ]
     },
     "metadata": {
      "needs_background": "light"
     },
     "output_type": "display_data"
    }
   ],
   "source": [
    "sns.heatmap(train.isnull(),yticklabels=False,cbar=False,cmap='viridis')"
   ]
  },
  {
   "cell_type": "code",
   "execution_count": 76,
   "metadata": {},
   "outputs": [
    {
     "name": "stdout",
     "output_type": "stream",
     "text": [
      "Item_Identifier                 0\n",
      "Item_Weight                  1463\n",
      "Item_Fat_Content                0\n",
      "Item_Visibility                 0\n",
      "Item_Type                       0\n",
      "Item_MRP                        0\n",
      "Outlet_Identifier               0\n",
      "Outlet_Establishment_Year       0\n",
      "Outlet_Size                  2410\n",
      "Outlet_Location_Type            0\n",
      "Outlet_Type                     0\n",
      "Item_Outlet_Sales               0\n",
      "dtype: int64\n"
     ]
    }
   ],
   "source": [
    "missing_value=train.isnull().sum()\n",
    "print (missing_value)"
   ]
  },
  {
   "cell_type": "code",
   "execution_count": 77,
   "metadata": {},
   "outputs": [],
   "source": [
    "# Encoding Outlet_Size"
   ]
  },
  {
   "cell_type": "code",
   "execution_count": 78,
   "metadata": {},
   "outputs": [],
   "source": [
    "train_test['Outlet_Size']=train_test['Outlet_Size'].replace({'Small':1,\n",
    "                                                            'Medium':2,\n",
    "                                                            'High':3})"
   ]
  },
  {
   "cell_type": "code",
   "execution_count": 79,
   "metadata": {},
   "outputs": [],
   "source": [
    "# Imputing nulls in Item_Weight"
   ]
  },
  {
   "cell_type": "code",
   "execution_count": 81,
   "metadata": {},
   "outputs": [],
   "source": [
    "cond=(train_test['Item_Weight'].isna())\n",
    "train_test.loc[cond,'Item_Weight']\n",
    "map1=dict(train_test.groupby(['Item_Identifier'])['Item_Weight'].median())\n",
    "map1\n",
    "#pd.pivot_table('Item_Weight',index='Item_Identifier',aggfunc=np.mean())\n",
    "train_test.loc[cond,'Item_Weight']=train_test.loc[cond,'Item_Identifier'].apply(lambda x :map1[x] )"
   ]
  },
  {
   "cell_type": "code",
   "execution_count": 82,
   "metadata": {},
   "outputs": [
    {
     "data": {
      "text/plain": [
       "0"
      ]
     },
     "execution_count": 82,
     "metadata": {},
     "output_type": "execute_result"
    }
   ],
   "source": [
    "train_test['Item_Visibility'].isna().sum()"
   ]
  },
  {
   "cell_type": "code",
   "execution_count": 83,
   "metadata": {},
   "outputs": [
    {
     "data": {
      "text/plain": [
       "446"
      ]
     },
     "execution_count": 83,
     "metadata": {},
     "output_type": "execute_result"
    }
   ],
   "source": [
    "train[train['Item_Visibility']==0]['Item_Identifier'].nunique()#groupby(['Item_Identifier'])Item_Visibility"
   ]
  },
  {
   "cell_type": "code",
   "execution_count": null,
   "metadata": {},
   "outputs": [],
   "source": []
  }
 ],
 "metadata": {
  "kernelspec": {
   "display_name": "Python 3",
   "language": "python",
   "name": "python3"
  },
  "language_info": {
   "codemirror_mode": {
    "name": "ipython",
    "version": 3
   },
   "file_extension": ".py",
   "mimetype": "text/x-python",
   "name": "python",
   "nbconvert_exporter": "python",
   "pygments_lexer": "ipython3",
   "version": "3.7.3"
  }
 },
 "nbformat": 4,
 "nbformat_minor": 2
}
